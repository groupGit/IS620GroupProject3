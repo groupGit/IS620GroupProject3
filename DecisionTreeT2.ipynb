{
 "cells": [
  {
   "cell_type": "markdown",
   "metadata": {},
   "source": [
    "# IS620 Group Project"
   ]
  },
  {
   "cell_type": "markdown",
   "metadata": {},
   "source": [
    "<b>Group project: Using any of the three classifiers described in chapter 6 of Natural Language Processing with Python, and any features you can think of, build the best name gender classifier you can. Begin by splitting the Names Corpus into three subsets: 500 words for the test set, 500 words for the dev- test set, and the remaining 6900 words for the training set. Then, starting with the example name gender classifier, make incremental improvements. Use the dev-test set to check your progress. Once you are satisfied with your classifier, check its final performance on the test set. How does the performance on the test set compare to the performance on the dev-test set? Is this what you'd expect?</b>"
   ]
  },
  {
   "cell_type": "markdown",
   "metadata": {},
   "source": [
    "<font color= blue> <b>Group Members:- Aaron Palumbo, Brian Chu,  David Stern, Partha Banerjee;  Rohan Fray, Tulasi Ramarao;</b></font>"
   ]
  },
  {
   "cell_type": "markdown",
   "metadata": {
    "collapsed": true
   },
   "source": [
    "## Dependencies"
   ]
  },
  {
   "cell_type": "code",
   "execution_count": 17,
   "metadata": {
    "collapsed": true
   },
   "outputs": [],
   "source": [
    "import nltk\n",
    "import numpy as np\n",
    "import pandas as pd\n",
    "from sklearn.cross_validation import train_test_split\n",
    "%matplotlib inline\n",
    "import matplotlib.pyplot as plt\n",
    "from sklearn import tree"
   ]
  },
  {
   "cell_type": "markdown",
   "metadata": {},
   "source": [
    "## Split Data"
   ]
  },
  {
   "cell_type": "code",
   "execution_count": 18,
   "metadata": {
    "collapsed": false
   },
   "outputs": [],
   "source": [
    "names = nltk.corpus.names\n",
    "maleNames = names.words('male.txt')\n",
    "femaleNames = names.words('female.txt')"
   ]
  },
  {
   "cell_type": "markdown",
   "metadata": {},
   "source": [
    "* Training Data\n",
    "\n",
    "    * Train Set: Used to train the model\n",
    "\n",
    "    * Validation Set: Model Selection\n",
    "\n",
    "* Test Set: Measure Final Model performance (Only use this once at the end)"
   ]
  },
  {
   "cell_type": "markdown",
   "metadata": {},
   "source": [
    "There are different numbers of male and female names:"
   ]
  },
  {
   "cell_type": "code",
   "execution_count": 19,
   "metadata": {
    "collapsed": false
   },
   "outputs": [
    {
     "name": "stdout",
     "output_type": "stream",
     "text": [
      "Number of male names: 2943\n",
      "Number of female names: 5001\n"
     ]
    }
   ],
   "source": [
    "print \"Number of male names: {}\".format(len(maleNames))\n",
    "print \"Number of female names: {}\".format(len(femaleNames))"
   ]
  },
  {
   "cell_type": "markdown",
   "metadata": {},
   "source": [
    "We will have to do our splits separately. We will split the data with the goal of maintaining the same ratio of male to female in our train, validation, and test sets."
   ]
  },
  {
   "cell_type": "code",
   "execution_count": 20,
   "metadata": {
    "collapsed": false
   },
   "outputs": [],
   "source": [
    "perMale = 1.0 * len(maleNames) / (len(maleNames) + len(femaleNames))\n",
    "perMale\n",
    "\n",
    "# total names\n",
    "numNames = len(names.words())\n",
    "# number used for testing\n",
    "numTesting = 1000\n",
    "# slit between final test and validation\n",
    "perTest = 0.5\n",
    "\n",
    "# numbers for data splitting\n",
    "numTestingMale = int(perMale * numTesting)\n",
    "numTestingFemale = numTesting - numTestingMale\n",
    "#print numTestingMale\n",
    "#print numTestingFemale\n",
    "\n",
    "numTestMale = int(numTesting * perTest * perMale)\n",
    "numTestFemale = int(numTesting *  perTest - numTestMale)\n",
    "#print numTestMale\n",
    "#print numTestFemale\n"
   ]
  },
  {
   "cell_type": "code",
   "execution_count": 21,
   "metadata": {
    "collapsed": false
   },
   "outputs": [
    {
     "name": "stdout",
     "output_type": "stream",
     "text": [
      "Val Set   = 500 (Should be 500)\n",
      "Test Set  = 500 (Should be 500)\n",
      "Train Set = 6944 (Should be >6900)\n"
     ]
    }
   ],
   "source": [
    "maleTrain, maleTesting = train_test_split(\n",
    "    maleNames, test_size=numTestingMale, random_state=5)\n",
    "maleVal, maleTest = train_test_split(\n",
    "    maleTesting, test_size=numTestMale, random_state=6)\n",
    "\n",
    "femaleTrain, femaleTesting = train_test_split(\n",
    "    femaleNames, test_size=numTestingFemale, random_state=7)\n",
    "femaleVal, femaleTest = train_test_split(\n",
    "    femaleTesting, test_size=numTestFemale, random_state=8)\n",
    "\n",
    "#print(maleTrain)\n",
    "# Check numbers\n",
    "print \"Val Set   = {} (Should be 500)\".format(len(maleVal) + len(femaleVal))\n",
    "print \"Test Set  = {} (Should be 500)\".format(len(maleTest) + len(femaleTest))\n",
    "print \"Train Set = {} (Should be >6900)\".format(len(maleTrain) + len(femaleTrain))\n"
   ]
  },
  {
   "cell_type": "code",
   "execution_count": 22,
   "metadata": {
    "collapsed": false
   },
   "outputs": [
    {
     "name": "stdout",
     "output_type": "stream",
     "text": [
      "       name   sex\n",
      "0   Barthel  male\n",
      "1  Claudius  male\n",
      "2    Aharon  male\n",
      "3  Staffard  male\n",
      "4    Rollin  male\n"
     ]
    }
   ],
   "source": [
    "train = pd.DataFrame({'name': maleTrain + femaleTrain,\n",
    "                      'sex': (['male'] * len(maleTrain) + \n",
    "                              ['female'] * len(femaleTrain))})\n",
    "validation = pd.DataFrame({'name': maleVal + femaleVal,\n",
    "                           'sex': (['male'] * len(maleVal) +\n",
    "                                   ['female'] * len(femaleVal))})\n",
    "\n",
    "##### Use this set in the end !!!!\n",
    "test = pd.DataFrame({'name': maleTest + femaleTest,\n",
    "                     'sex': (['male'] * len(maleTest) +\n",
    "                             ['female'] * len(femaleTest))})\n",
    "train.to_csv(\"training2.txt\", header=False, index=False, na_rep=\" \")\n",
    "\n",
    "print (train.head())\n",
    "#print(len(train))\n",
    "#print((validation))\n",
    "#print(len(test))\n"
   ]
  },
  {
   "cell_type": "markdown",
   "metadata": {},
   "source": [
    "\n",
    "Use the above code to start another notebook to explore an algorithm. Make sure to use the splits as defined above and to not use the final test set to tune your model. =-)"
   ]
  },
  {
   "cell_type": "markdown",
   "metadata": {},
   "source": [
    "<font color = green size =5> Decision Tree Algorithm </font> <br>\n",
    "\n",
    "Binary Variable Decision Tree (Whether a given name is that of a male or a female.\n"
   ]
  },
  {
   "cell_type": "code",
   "execution_count": 23,
   "metadata": {
    "collapsed": false
   },
   "outputs": [
    {
     "name": "stdout",
     "output_type": "stream",
     "text": [
      "6944\n",
      "       name   sex\n",
      "0   Barthel  male\n",
      "1  Claudius  male\n",
      "2    Aharon  male\n",
      "3  Staffard  male\n",
      "4    Rollin  male\n"
     ]
    }
   ],
   "source": [
    "trainList = train.values.tolist()\n",
    "print(len(trainList))\n",
    "print(train.head())"
   ]
  },
  {
   "cell_type": "code",
   "execution_count": 24,
   "metadata": {
    "collapsed": true
   },
   "outputs": [],
   "source": [
    "# count vowels \n",
    "def countVowel(word):\n",
    "    count = 0;\n",
    "    for w in word:\n",
    "        if w == \"a\":\n",
    "            count = count + 1;\n",
    "        if w == \"e\":\n",
    "             count = count + 1;\n",
    "        if w == \"i\":\n",
    "             count = count + 1;\n",
    "        if w == \"o\":\n",
    "             count = count + 1;\n",
    "        if w == \"u\":\n",
    "             count = count + 1;\n",
    "    return count\n",
    "\n",
    "# if count of vowels less than 2 or not\n",
    "def numOfVowels(word):\n",
    "    if countVowel(word) == 2:\n",
    "        return 2\n",
    "    elif countVowel(word) == 3:\n",
    "        return 0\n",
    "    else:\n",
    "        return 0\n",
    "\n",
    "def firstLetterK(word):\n",
    "    if ( word[1] == \"K\"):\n",
    "        return 1\n",
    "    else:\n",
    "        return 0\n"
   ]
  },
  {
   "cell_type": "code",
   "execution_count": 25,
   "metadata": {
    "collapsed": false
   },
   "outputs": [],
   "source": [
    "from nltk.classify import DecisionTreeClassifier\n",
    "\n",
    "# Feature extractor function.\n",
    "def gender_features(word):\n",
    "    return {'last_letter': word[-1]}\n",
    "\n",
    "def gender_featuresM(word):\n",
    "    features = {}\n",
    "    features[\"first_letter\"] = word[0].lower()\n",
    "    features[\"last_letter\"] = word[-1].lower()\n",
    "    return features\n",
    "\n",
    "def gender_features2(word):\n",
    "    if countVowel(word) > 0:\n",
    "        return {'last_letter': \"t\"}\n",
    "    else:\n",
    "        return {'last_letter': \"f\"}\n",
    "\n",
    "def gender_featuresStr(word):   \n",
    "    features = {}\n",
    "    features[\"fletter\"] = word[0].lower()\n",
    "    features[\"lletter\"] = word[-1].lower()\n",
    "    features[\"length\"] = len(name)\n",
    "    features[\"countOfVowels\"] = numOfVowels(word)\n",
    "    features[\"fLetterK\"] = firstLetterK(word)\n",
    "    return {'first_letter': word[0].lower(),\n",
    "            'last_letter': word[-1].lower(),\n",
    "             'length': len(word),\n",
    "           'countVowels': numOfVowels(word),\n",
    "           'fLetterK': firstLetterK(word)}\n",
    "\n",
    "def gender_featuresM2(word):\n",
    "    features = {}\n",
    "    features[\"fletter\"] = word[0].lower()\n",
    "    features[\"lletter\"] = word[-1].lower()\n",
    "    features[\"length\"] = len(name)\n",
    "    features[\"countOfVowels\"] = numOfVowels(word)\n",
    "    features[\"fLetterK\"] = firstLetterK(word)\n",
    "    return features\n"
   ]
  },
  {
   "cell_type": "markdown",
   "metadata": {},
   "source": [
    "A. Using feature - that uses first letter and the last letter"
   ]
  },
  {
   "cell_type": "markdown",
   "metadata": {},
   "source": [
    "B. Using feature that uses first letter, last letter, length of word, vowelCount, first letterK\n"
   ]
  },
  {
   "cell_type": "code",
   "execution_count": 26,
   "metadata": {
    "collapsed": false
   },
   "outputs": [
    {
     "name": "stdout",
     "output_type": "stream",
     "text": [
      "Neo is  male\n",
      "Trinity is  female\n",
      "0.676\n"
     ]
    }
   ],
   "source": [
    "# Extract features for Train\n",
    "featuresetsTr2 = [(gender_featuresStr(name), gender) for index, (name, gender) in train.iterrows()]\n",
    "# Split train and test set\n",
    "#train_set, test_set = featuresets[500:], featuresets[:500]\n",
    "# Extract features for validation set\n",
    "featuresetsV2 = [(gender_featuresStr(name), gender) for index, (name, gender) in validation.iterrows()]\n",
    "# Extract features for Test set\n",
    "featuresetsTst2 = [(gender_featuresStr(name), gender) for index, (name, gender) in test.iterrows()]\n",
    "\n",
    "\n",
    "dt_classifier3 = DecisionTreeClassifier.train(featuresetsTr2,\n",
    "binary=True, entropy_cutoff=0.8, depth_cutoff=5, support_cutoff=30)\n",
    "\n",
    "# Test classifier on \"Neo\" and Trinity\n",
    "print \"Neo is \", dt_classifier3.classify(gender_featuresStr('Neo'))\n",
    "print \"Trinity is \", dt_classifier3.classify(gender_featuresStr('Trinity'))\n",
    "\n",
    "#male\n",
    "print nltk.classify.accuracy(dt_classifier3,featuresetsTst2)\n",
    "#0.676\n"
   ]
  },
  {
   "cell_type": "code",
   "execution_count": 27,
   "metadata": {
    "collapsed": false
   },
   "outputs": [
    {
     "name": "stdout",
     "output_type": "stream",
     "text": [
      "Neo is  male\n",
      "Trinity is  female\n",
      "0.676\n"
     ]
    }
   ],
   "source": [
    "\n",
    "# Extract features for Train\n",
    "featuresetsTr2 = [(gender_featuresM2(name), gender) for index, (name, gender) in train.iterrows()]\n",
    "# Split train and test set\n",
    "#train_set, test_set = featuresets[500:], featuresets[:500]\n",
    "# Extract features for validation set\n",
    "featuresetsV2 = [(gender_featuresM2(name), gender) for index, (name, gender) in validation.iterrows()]\n",
    "# Extract features for Test set\n",
    "featuresetsTst2 = [(gender_featuresM2(name), gender) for index, (name, gender) in test.iterrows()]\n",
    "\n",
    "\n",
    "dt_classifier2 = DecisionTreeClassifier.train(featuresetsTr2,\n",
    "binary=True, entropy_cutoff=0.8, depth_cutoff=5, support_cutoff=30)\n",
    "\n",
    "\n",
    "# Test classifier on \"Neo\" and \"Trinity\"\n",
    "print \"Neo is \", dt_classifier2.classify(gender_featuresM2('Neo'))\n",
    "print \"Trinity is \", dt_classifier2.classify(gender_featuresM2('Trinity'))\n",
    "\n",
    "print nltk.classify.accuracy(dt_classifier2,featuresetsTst2)\n",
    "#0.676\n"
   ]
  },
  {
   "cell_type": "code",
   "execution_count": 28,
   "metadata": {
    "collapsed": false
   },
   "outputs": [
    {
     "name": "stdout",
     "output_type": "stream",
     "text": [
      "Neo is  female\n",
      "Trinity is  female\n",
      "0.672\n"
     ]
    }
   ],
   "source": [
    "# Extract features for Train train\n",
    "featuresetsTr = [(gender_featuresM(name), gender) for index, (name, gender) in train.iterrows()]\n",
    "# Split train and test set\n",
    "#train_set, test_set = featuresets[500:], featuresets[:500]\n",
    "# Extract features for validation set\n",
    "featuresetsV = [(gender_featuresM(name), gender) for index, (name, gender) in validation.iterrows()]\n",
    "# Extract features for Test set\n",
    "featuresetsTst = [(gender_featuresM(name), gender) for index, (name, gender) in test.iterrows()]\n",
    "\n",
    "\n",
    "dt_classifier = DecisionTreeClassifier.train(featuresetsV,\n",
    "binary=True, entropy_cutoff=0.8, depth_cutoff=5, support_cutoff=30)\n",
    "\n",
    "# Test classifier on \"Neo\" and \"Trinity\"\n",
    "print \"Neo is \", dt_classifier.classify(gender_featuresM2('Neo'))\n",
    "print \"Trinity is \", dt_classifier.classify(gender_featuresM2('Trinity'))\n",
    "#female\n",
    "#male\n",
    "print nltk.classify.accuracy(dt_classifier,featuresetsTst)\n",
    "#0.672"
   ]
  },
  {
   "cell_type": "markdown",
   "metadata": {},
   "source": [
    "Observe that these character names from The Matrix (Neo and Trinity) are \n",
    "correctly classified. Although this science fiction movie is set in 2199, it still conforms with our expectations about names and genders. \n",
    "We can systematically evaluate the classifier on a much larger quantity of unseen data:\n"
   ]
  },
  {
   "cell_type": "code",
   "execution_count": 29,
   "metadata": {
    "collapsed": false
   },
   "outputs": [
    {
     "name": "stdout",
     "output_type": "stream",
     "text": [
      "0.676\n",
      "last_letter=d? ........................................ male\n",
      "else: ................................................. female\n",
      "  last_letter=r? ...................................... male\n",
      "  else: ............................................... female\n",
      "    last_letter=o? .................................... male\n",
      "    else: ............................................. female\n",
      "      last_letter=n? .................................. female\n",
      "      else: ........................................... female\n",
      "\n"
     ]
    }
   ],
   "source": [
    "    \n",
    "print nltk.classify.accuracy(dt_classifier3, featuresetsTst)\n",
    "#from Classifier for Vowels:(search for Trinity): female\n",
    "#0.678305400372\n",
    "\n",
    "sorted(dt_classifier.labels())\n",
    "print(dt_classifier)\n",
    "\n",
    "\n",
    "\n"
   ]
  },
  {
   "cell_type": "code",
   "execution_count": null,
   "metadata": {
    "collapsed": false
   },
   "outputs": [],
   "source": []
  },
  {
   "cell_type": "code",
   "execution_count": 30,
   "metadata": {
    "collapsed": false
   },
   "outputs": [
    {
     "name": "stdout",
     "output_type": "stream",
     "text": [
      "name    Kristos\n",
      "sex        male\n",
      "Name: 56, dtype: object\n",
      "\n",
      "name    Orton\n",
      "sex      male\n",
      "Name: 38, dtype: object\n",
      "\n",
      "name      Shea\n",
      "sex     female\n",
      "Name: 486, dtype: object\n"
     ]
    }
   ],
   "source": [
    "# Just to make sure we all see the same thing\n",
    "print train.loc[56, :]\n",
    "print\n",
    "print validation.loc[38, :]\n",
    "print\n",
    "print test.loc[486, :]"
   ]
  },
  {
   "cell_type": "code",
   "execution_count": 31,
   "metadata": {
    "collapsed": false
   },
   "outputs": [],
   "source": [
    "       \n",
    "#return the name\n",
    "def nameOnly(name):\n",
    "    return name;\n",
    "\n",
    "\n",
    "# assign and get 1 or 0 for the ending in vowel or not \n",
    "def LastLetterVowelD(word):\n",
    "    if  word[-1] in 'aeiou': return 1\n",
    "    else: return 0\n",
    "\n",
    "# assign and get numbers for words ending with a particular vowel\n",
    "# binary/boolean is better for algorithms \n",
    "def LastLetterVowel(word):\n",
    "    if  word[-1] in 'aeiou':return {'last_vowel': 1}\n",
    "    else:return {'last_vowel': 0}\n",
    "    \n",
    "# get the last letter\n",
    "def lastLetter(word):\n",
    "    return {'last_letter': word[-1]}\n",
    "    \n",
    "\n",
    "# return if sex is male or not\n",
    "def MaleOrNot(sex):\n",
    "    #print(gender)\n",
    "    if (sex[0] == \"m\"): return True\n",
    "    else: return False\n",
    "\n",
    "# return if sex is female or not\n",
    "def FemaleOrNot(sex):\n",
    "    #print(gender[0])\n",
    "    if (sex[0] == \"f\"):return True\n",
    "    else: return False\n",
    "       \n",
    "# get name 'n sex from lists: maleNames and femaleNames\n",
    "names = ([(name,'male') for name in maleNames] + [(name,'female') for name in femaleNames])\n",
    "\n",
    "# get names only from lists: maleNames and femaleNames\n",
    "namesOnly = ([(name) for name in maleNames] + [(name) for name in femaleNames])\n",
    "\n",
    "myList=[\"Sample_\"+ str(x) for x in range(1,6945)]\n",
    "#print(\"Mylist=\",myList)"
   ]
  },
  {
   "cell_type": "code",
   "execution_count": 32,
   "metadata": {
    "collapsed": false
   },
   "outputs": [
    {
     "name": "stdout",
     "output_type": "stream",
     "text": [
      "6944\n"
     ]
    },
    {
     "ename": "NameError",
     "evalue": "name 'firstLetterKD' is not defined",
     "output_type": "error",
     "traceback": [
      "\u001b[0;31m---------------------------------------------------------------------------\u001b[0m",
      "\u001b[0;31mNameError\u001b[0m                                 Traceback (most recent call last)",
      "\u001b[0;32m<ipython-input-32-3b9cb0f6adc4>\u001b[0m in \u001b[0;36m<module>\u001b[0;34m()\u001b[0m\n\u001b[1;32m      9\u001b[0m \u001b[0;34m\u001b[0m\u001b[0m\n\u001b[1;32m     10\u001b[0m \u001b[0;32mprint\u001b[0m\u001b[0;34m(\u001b[0m\u001b[0mlen\u001b[0m\u001b[0;34m(\u001b[0m\u001b[0mtrainList\u001b[0m\u001b[0;34m)\u001b[0m\u001b[0;34m)\u001b[0m\u001b[0;34m\u001b[0m\u001b[0m\n\u001b[0;32m---> 11\u001b[0;31m \u001b[0mtheNames\u001b[0m \u001b[0;34m=\u001b[0m \u001b[0;34m[\u001b[0m\u001b[0;34m(\u001b[0m\u001b[0mnameOnly\u001b[0m\u001b[0;34m(\u001b[0m\u001b[0mn\u001b[0m\u001b[0;34m)\u001b[0m\u001b[0;34m,\u001b[0m\u001b[0mLastLetterVowelD\u001b[0m\u001b[0;34m(\u001b[0m\u001b[0mn\u001b[0m\u001b[0;34m)\u001b[0m\u001b[0;34m,\u001b[0m\u001b[0mnumOfVowels\u001b[0m\u001b[0;34m(\u001b[0m\u001b[0mn\u001b[0m\u001b[0;34m)\u001b[0m\u001b[0;34m,\u001b[0m\u001b[0mfirstLetterKD\u001b[0m\u001b[0;34m(\u001b[0m\u001b[0mn\u001b[0m\u001b[0;34m)\u001b[0m\u001b[0;34m,\u001b[0m\u001b[0mg\u001b[0m\u001b[0;34m)\u001b[0m \u001b[0;32mfor\u001b[0m \u001b[0;34m(\u001b[0m\u001b[0mn\u001b[0m\u001b[0;34m,\u001b[0m\u001b[0mg\u001b[0m\u001b[0;34m)\u001b[0m \u001b[0;32min\u001b[0m \u001b[0mtrainList\u001b[0m\u001b[0;34m]\u001b[0m\u001b[0;34m\u001b[0m\u001b[0m\n\u001b[0m\u001b[1;32m     12\u001b[0m \u001b[0;31m# convert the test and the validation data to dataframe\u001b[0m\u001b[0;34m\u001b[0m\u001b[0;34m\u001b[0m\u001b[0m\n\u001b[1;32m     13\u001b[0m \u001b[0mtheNames_pd\u001b[0m \u001b[0;34m=\u001b[0m \u001b[0mpd\u001b[0m\u001b[0;34m.\u001b[0m\u001b[0mDataFrame\u001b[0m\u001b[0;34m(\u001b[0m\u001b[0mtheNames\u001b[0m\u001b[0;34m)\u001b[0m\u001b[0;34m\u001b[0m\u001b[0m\n",
      "\u001b[0;31mNameError\u001b[0m: name 'firstLetterKD' is not defined"
     ]
    }
   ],
   "source": [
    "import random\n",
    "\n",
    "## TRAIN set\n",
    "# convert the training data already created above for use\n",
    "trainList = train.values.tolist()\n",
    "\n",
    "# shutffle the list \n",
    "random.shuffle(trainList)\n",
    "\n",
    "print(len(trainList))\n",
    "theNames = [(nameOnly(n),LastLetterVowelD(n),numOfVowels(n),firstLetterKD(n),g) for (n,g) in trainList]\n",
    "# convert the test and the validation data to dataframe\n",
    "theNames_pd = pd.DataFrame(theNames)\n",
    "theNames_pd = theNames_pd.rename(columns = {0:'nameOnly',1:'LastLetterVowelD',2:'numofVowelsD',\n",
    "                                            3:'firstLetterKD',4:'gender'})\n",
    "\n",
    "#LastVowel,isMale,isFemale\n",
    "df = theNames_pd.iloc[:,[1,2,3]]\n",
    "print df.head()\n",
    "X = df.values\n",
    "y=df.LastLetterVowelD\n",
    "\n",
    "## VALIDAION set\n",
    "# convert the training data already created above for use\n",
    "validationList = validation.values.tolist()\n",
    "print(len(validationList))\n",
    "\n",
    "# shutffle the list \n",
    "random.shuffle(validationList)\n",
    "\n",
    "theNames2 = [(nameOnly(n),LastLetterVowelD(n),numOfVowels(n),firstLetterKD(n),g) for (n,g) in validationList]\n",
    "# convert the test and the validation data to dataframe\n",
    "theNames_pd2 = pd.DataFrame(theNames2)\n",
    "theNames_pd2 = theNames_pd2.rename(columns = {0:'nameOnly',1:'LastLetterVowelD',2:'numofVowelsD',\n",
    "                                            3:'firstLetterKD',4:'gender'})\n",
    "\n",
    "#LastVowel,isMale,isFemale\n",
    "df2 = theNames_pd2.iloc[:,[1,2,3]]\n",
    "print df2.head()\n",
    "X2 = df2.values\n",
    "y2=df2.LastLetterVowelD\n",
    "\n",
    "\n",
    "# classifier for Train data\n",
    "clf = tree.DecisionTreeClassifier()\n",
    "clf = clf.fit(X,y)\n",
    "\n",
    "# classifier for Validation data\n",
    "clf2 = tree.DecisionTreeClassifier()\n",
    "clf2 = clf2.fit(X2,y2)\n",
    "\n",
    "predicted_train_y=clf.predict(X)\n",
    "predicted_val_y=clf.predict(X2)\n",
    "\n",
    "\n",
    "#print(\"predicted values = \")\n",
    "#print(predicted_train_y)\n",
    "#print(predicted_val_y)\n",
    "print(1.0 * sum(y == predicted_train_y)/len(y))\n",
    "\n"
   ]
  },
  {
   "cell_type": "markdown",
   "metadata": {},
   "source": [
    "Visuazlize the tree"
   ]
  },
  {
   "cell_type": "code",
   "execution_count": null,
   "metadata": {
    "collapsed": true
   },
   "outputs": [],
   "source": [
    "# Save the trees in pdf format \n",
    "\n",
    "from sklearn.externals.six import StringIO  \n",
    "import pydot \n",
    "\n",
    "# tree for test data\n",
    "dot_data = StringIO() \n",
    "tree.export_graphviz(clf, out_file=dot_data) \n",
    "graph = pydot.graph_from_dot_data(dot_data.getvalue()) \n",
    "graph.write_pdf(\"clfGraph.pdf\") \n",
    "\n",
    "# tree for test data\n",
    "dot_data = StringIO() \n",
    "tree.export_graphviz(clf2, out_file=dot_data) \n",
    "graph = pydot.graph_from_dot_data(dot_data.getvalue()) \n",
    "graph.write_pdf(\"clf2Graph.pdf\") \n"
   ]
  },
  {
   "cell_type": "code",
   "execution_count": null,
   "metadata": {
    "collapsed": false
   },
   "outputs": [],
   "source": [
    "print dt_classifier.pseudocode(depth=6)"
   ]
  },
  {
   "cell_type": "markdown",
   "metadata": {},
   "source": [
    "The basic idea is that the nodes will have a simple boolean test on an attribute, for numeric it returns true if datapoint.attribute <= pivot and false otherwise, and for a categorical it returns true if datapoint.attribute is in pivot and false otherwise\n"
   ]
  }
 ],
 "metadata": {
  "kernelspec": {
   "display_name": "Python 2",
   "language": "python",
   "name": "python2"
  },
  "language_info": {
   "codemirror_mode": {
    "name": "ipython",
    "version": 2
   },
   "file_extension": ".py",
   "mimetype": "text/x-python",
   "name": "python",
   "nbconvert_exporter": "python",
   "pygments_lexer": "ipython2",
   "version": "2.7.10"
  }
 },
 "nbformat": 4,
 "nbformat_minor": 0
}
