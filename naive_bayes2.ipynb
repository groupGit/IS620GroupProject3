{
 "cells": [
  {
   "cell_type": "markdown",
   "metadata": {},
   "source": [
    "D Stern"
   ]
  },
  {
   "cell_type": "code",
   "execution_count": 298,
   "metadata": {
    "collapsed": true
   },
   "outputs": [],
   "source": [
    "import nltk\n",
    "from nltk.corpus import names\n",
    "import random\n",
    "from __future__ import division"
   ]
  },
  {
   "cell_type": "code",
   "execution_count": 299,
   "metadata": {
    "collapsed": false
   },
   "outputs": [],
   "source": [
    "def gender_features(word):\n",
    "    return {'last_letter': word[-1]}"
   ]
  },
  {
   "cell_type": "code",
   "execution_count": 300,
   "metadata": {
    "collapsed": false
   },
   "outputs": [],
   "source": [
    "names = nltk.corpus.names\n",
    "maleNames = names.words('male.txt')\n",
    "femaleNames = names.words('female.txt')\n",
    "maleNames = [(each, 'male') for each in maleNames] # add labels\n",
    "femaleNames = [(each, 'female') for each in femaleNames]\n",
    "random.shuffle(maleNames) #lists are alphabetical, randomize before splitting\n",
    "random.shuffle(femaleNames)"
   ]
  },
  {
   "cell_type": "code",
   "execution_count": 301,
   "metadata": {
    "collapsed": false
   },
   "outputs": [
    {
     "data": {
      "text/plain": [
       "0.3704682779456193"
      ]
     },
     "execution_count": 301,
     "metadata": {},
     "output_type": "execute_result"
    }
   ],
   "source": [
    "len(maleNames)/(len(maleNames)+len(femaleNames)) # pct of male names"
   ]
  },
  {
   "cell_type": "code",
   "execution_count": 302,
   "metadata": {
    "collapsed": false
   },
   "outputs": [
    {
     "data": {
      "text/plain": [
       "185.20000000000002"
      ]
     },
     "execution_count": 302,
     "metadata": {},
     "output_type": "execute_result"
    }
   ],
   "source": [
    "0.3704*500 # number of male names to take for validation and test sets"
   ]
  },
  {
   "cell_type": "code",
   "execution_count": 303,
   "metadata": {
    "collapsed": false
   },
   "outputs": [
    {
     "data": {
      "text/plain": [
       "2572.0576"
      ]
     },
     "execution_count": 303,
     "metadata": {},
     "output_type": "execute_result"
    }
   ],
   "source": [
    "0.3704*6944 # number of male names to take for training set"
   ]
  },
  {
   "cell_type": "code",
   "execution_count": 304,
   "metadata": {
    "collapsed": false
   },
   "outputs": [
    {
     "data": {
      "text/plain": [
       "0.6295317220543807"
      ]
     },
     "execution_count": 304,
     "metadata": {},
     "output_type": "execute_result"
    }
   ],
   "source": [
    "len(femaleNames)/(len(maleNames)+len(femaleNames)) # pct of female names"
   ]
  },
  {
   "cell_type": "code",
   "execution_count": 305,
   "metadata": {
    "collapsed": false
   },
   "outputs": [
    {
     "data": {
      "text/plain": [
       "314.75"
      ]
     },
     "execution_count": 305,
     "metadata": {},
     "output_type": "execute_result"
    }
   ],
   "source": [
    "0.6295*500 # number of female names to take for validation and test sets"
   ]
  },
  {
   "cell_type": "code",
   "execution_count": 306,
   "metadata": {
    "collapsed": false
   },
   "outputs": [
    {
     "data": {
      "text/plain": [
       "4371.248"
      ]
     },
     "execution_count": 306,
     "metadata": {},
     "output_type": "execute_result"
    }
   ],
   "source": [
    "0.6295*6944 # number of female names to take for training set"
   ]
  },
  {
   "cell_type": "code",
   "execution_count": 307,
   "metadata": {
    "collapsed": false
   },
   "outputs": [],
   "source": [
    "training  = maleNames[0:2572] + femaleNames[0:4370]\n",
    "test = maleNames[2572:2757] + femaleNames[4370:4685]\n",
    "validation = maleNames[2757:2942] + femaleNames[4685:5000]"
   ]
  },
  {
   "cell_type": "code",
   "execution_count": 308,
   "metadata": {
    "collapsed": false
   },
   "outputs": [
    {
     "name": "stdout",
     "output_type": "stream",
     "text": [
      "0.752\n"
     ]
    }
   ],
   "source": [
    "from nltk.classify import apply_features\n",
    "training1 = apply_features(gender_features, training)\n",
    "test1 = apply_features(gender_features, test)\n",
    "classifier1 = nltk.NaiveBayesClassifier.train(training1)\n",
    "print(nltk.classify.accuracy(classifier1, test1))"
   ]
  },
  {
   "cell_type": "code",
   "execution_count": 309,
   "metadata": {
    "collapsed": false
   },
   "outputs": [
    {
     "name": "stdout",
     "output_type": "stream",
     "text": [
      "Most Informative Features\n",
      "             last_letter = u'a'           female : male   =     38.1 : 1.0\n",
      "             last_letter = u'k'             male : female =     33.2 : 1.0\n",
      "             last_letter = u'v'             male : female =     18.9 : 1.0\n",
      "             last_letter = u'f'             male : female =     15.5 : 1.0\n",
      "             last_letter = u'p'             male : female =     12.7 : 1.0\n",
      "             last_letter = u'd'             male : female =      9.8 : 1.0\n",
      "             last_letter = u'm'             male : female =      9.1 : 1.0\n",
      "             last_letter = u'o'             male : female =      7.9 : 1.0\n",
      "             last_letter = u'r'             male : female =      7.5 : 1.0\n",
      "             last_letter = u'g'             male : female =      5.7 : 1.0\n"
     ]
    }
   ],
   "source": [
    "classifier.show_most_informative_features(10)"
   ]
  },
  {
   "cell_type": "markdown",
   "metadata": {},
   "source": [
    "For the second features definition, I messed around with combinations of just first and last letter. Although there is some variability on each run, I found that the last letter alone is more indicative than first letter alone. Just using the last letter is roughly the same as using both the first and the last letter."
   ]
  },
  {
   "cell_type": "code",
   "execution_count": 310,
   "metadata": {
    "collapsed": false
   },
   "outputs": [],
   "source": [
    "def gender_features2(name):\n",
    "    features = {}\n",
    "    features[\"first_letter\"] = name[0].lower()\n",
    "    features[\"last_letter\"] = name[-1].lower()\n",
    "    return features"
   ]
  },
  {
   "cell_type": "code",
   "execution_count": 311,
   "metadata": {
    "collapsed": false
   },
   "outputs": [
    {
     "name": "stdout",
     "output_type": "stream",
     "text": [
      "0.79\n"
     ]
    }
   ],
   "source": [
    "training2 = [(gender_features2(n), gender) for (n, gender) in training]\n",
    "test2 = [(gender_features2(n), gender) for (n, gender) in test]\n",
    "validation2 = [(gender_features2(n), gender) for (n, gender) in validation]\n",
    "classifier2 = nltk.NaiveBayesClassifier.train(training2)\n",
    "print(nltk.classify.accuracy(classifier2, test2))"
   ]
  },
  {
   "cell_type": "code",
   "execution_count": 317,
   "metadata": {
    "collapsed": false
   },
   "outputs": [],
   "source": [
    "def gender_features3(name):\n",
    "    features = {}\n",
    "    features[\"first_letter\"] = name[0].lower()\n",
    "    features[\"last_letter\"] = name[-1].lower()\n",
    "    features[\"3-gram\"] = name[0:3]\n",
    "    return features"
   ]
  },
  {
   "cell_type": "code",
   "execution_count": 320,
   "metadata": {
    "collapsed": false
   },
   "outputs": [
    {
     "name": "stdout",
     "output_type": "stream",
     "text": [
      "0.818\n"
     ]
    }
   ],
   "source": [
    "training3 = [(gender_features3(n), gender) for (n, gender) in training]\n",
    "test3 = [(gender_features3(n), gender) for (n, gender) in test]\n",
    "validation3 = [(gender_features3(n), gender) for (n, gender) in validation]\n",
    "classifier3 = nltk.NaiveBayesClassifier.train(training3)\n",
    "print(nltk.classify.accuracy(classifier3, training3))"
   ]
  },
  {
   "cell_type": "code",
   "execution_count": 319,
   "metadata": {
    "collapsed": false
   },
   "outputs": [
    {
     "data": {
      "text/plain": [
       "'Joadasdajdhaksd'"
      ]
     },
     "execution_count": 319,
     "metadata": {},
     "output_type": "execute_result"
    }
   ],
   "source": []
  }
 ],
 "metadata": {
  "kernelspec": {
   "display_name": "Python 2",
   "language": "python",
   "name": "python2"
  },
  "language_info": {
   "codemirror_mode": {
    "name": "ipython",
    "version": 2
   },
   "file_extension": ".py",
   "mimetype": "text/x-python",
   "name": "python",
   "nbconvert_exporter": "python",
   "pygments_lexer": "ipython2",
   "version": "2.7.10"
  }
 },
 "nbformat": 4,
 "nbformat_minor": 0
}
