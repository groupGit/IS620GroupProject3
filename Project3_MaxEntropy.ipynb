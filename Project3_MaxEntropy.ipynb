{
 "cells": [
  {
   "cell_type": "markdown",
   "metadata": {},
   "source": [
    "# IS620 Group Project"
   ]
  },
  {
   "cell_type": "markdown",
   "metadata": {},
   "source": [
    "<b>Group project: Using any of the three classifiers described in chapter 6 of Natural Language Processing with Python, and any features you can think of, build the best name gender classifier you can. Begin by splitting the Names Corpus into three subsets: 500 words for the test set, 500 words for the dev- test set, and the remaining 6900 words for the training set. Then, starting with the example name gender classifier, make incremental improvements. Use the dev-test set to check your progress. Once you are satisfied with your classifier, check its final performance on the test set. How does the performance on the test set compare to the performance on the dev-test set? Is this what you'd expect?</b>"
   ]
  },
  {
   "cell_type": "markdown",
   "metadata": {},
   "source": [
    "<font color= blue> <b>Group Members:- Aaron Palumbo, Brian Chu,  David Stern, Partha Banerjee;  Rohan Fray, Tulasi Ramarao;</b></font>"
   ]
  },
  {
   "cell_type": "markdown",
   "metadata": {
    "collapsed": true
   },
   "source": [
    "## Dependencies"
   ]
  },
  {
   "cell_type": "code",
   "execution_count": 1,
   "metadata": {
    "collapsed": true
   },
   "outputs": [],
   "source": [
    "import nltk\n",
    "import numpy as np\n",
    "import pandas as pd\n",
    "from sklearn.cross_validation import train_test_split\n",
    "%matplotlib inline"
   ]
  },
  {
   "cell_type": "markdown",
   "metadata": {},
   "source": [
    "## Split Data"
   ]
  },
  {
   "cell_type": "code",
   "execution_count": 2,
   "metadata": {
    "collapsed": true
   },
   "outputs": [],
   "source": [
    "names = nltk.corpus.names\n",
    "maleNames = names.words('male.txt')\n",
    "femaleNames = names.words('female.txt')"
   ]
  },
  {
   "cell_type": "markdown",
   "metadata": {},
   "source": [
    "* Training Data\n",
    "\n",
    "    * Train Set: Used to train the model\n",
    "\n",
    "    * Validation Set: Model Selection\n",
    "\n",
    "* Test Set: Measure Final Model performance (Only use this once at the end)"
   ]
  },
  {
   "cell_type": "markdown",
   "metadata": {},
   "source": [
    "There are different numbers of male and female names:"
   ]
  },
  {
   "cell_type": "code",
   "execution_count": 3,
   "metadata": {
    "collapsed": false
   },
   "outputs": [
    {
     "name": "stdout",
     "output_type": "stream",
     "text": [
      "Number of male names: 2943\n",
      "Number of female names: 5001\n"
     ]
    }
   ],
   "source": [
    "print \"Number of male names: {}\".format(len(maleNames))\n",
    "print \"Number of female names: {}\".format(len(femaleNames))"
   ]
  },
  {
   "cell_type": "markdown",
   "metadata": {},
   "source": [
    "We will have to do our splits separately. We will split the data with the goal of maintaining the same ratio of male to female in our train, validation, and test sets."
   ]
  },
  {
   "cell_type": "code",
   "execution_count": 4,
   "metadata": {
    "collapsed": false
   },
   "outputs": [],
   "source": [
    "perMale = 1.0 * len(maleNames) / (len(maleNames) + len(femaleNames))\n",
    "perMale\n",
    "\n",
    "# total names\n",
    "numNames = len(names.words())\n",
    "# number used for testing\n",
    "numTesting = 1000\n",
    "# slit between final test and validation\n",
    "perTest = 0.5\n",
    "\n",
    "# numbers for data splitting\n",
    "numTestingMale = int(perMale * numTesting)\n",
    "numTestingFemale = numTesting - numTestingMale\n",
    "\n",
    "numTestMale = int(numTesting * perTest * perMale)\n",
    "numTestFemale = int(numTesting *  perTest - numTestMale)"
   ]
  },
  {
   "cell_type": "code",
   "execution_count": 5,
   "metadata": {
    "collapsed": false
   },
   "outputs": [
    {
     "name": "stdout",
     "output_type": "stream",
     "text": [
      "Val Set   = 500 (Should be 500)\n",
      "Test Set  = 500 (Should be 500)\n",
      "Train Set = 6944 (Should be >6900)\n"
     ]
    }
   ],
   "source": [
    "maleTrain, maleTesting = train_test_split(\n",
    "    maleNames, test_size=numTestingMale, random_state=5)\n",
    "maleVal, maleTest = train_test_split(\n",
    "    maleTesting, test_size=numTestMale, random_state=6)\n",
    "\n",
    "femaleTrain, femaleTesting = train_test_split(\n",
    "    femaleNames, test_size=numTestingFemale, random_state=7)\n",
    "femaleVal, femaleTest = train_test_split(\n",
    "    femaleTesting, test_size=numTestFemale, random_state=8)\n",
    "\n",
    "# Check numbers\n",
    "print \"Val Set   = {} (Should be 500)\".format(len(maleVal) + len(femaleVal))\n",
    "print \"Test Set  = {} (Should be 500)\".format(len(maleTest) + len(femaleTest))\n",
    "print \"Train Set = {} (Should be >6900)\".format(len(maleTrain) + len(femaleTrain))\n"
   ]
  },
  {
   "cell_type": "code",
   "execution_count": 6,
   "metadata": {
    "collapsed": false
   },
   "outputs": [],
   "source": [
    "train = pd.DataFrame({'name': maleTrain + femaleTrain,\n",
    "                      'sex': (['male'] * len(maleTrain) + \n",
    "                              ['female'] * len(femaleTrain))})\n",
    "validation = pd.DataFrame({'name': maleVal + femaleVal,\n",
    "                           'sex': (['male'] * len(maleVal) +\n",
    "                                   ['female'] * len(femaleVal))})\n",
    "test = pd.DataFrame({'name': maleTest + femaleTest,\n",
    "                     'sex': (['male'] * len(maleTest) +\n",
    "                             ['female'] * len(femaleTest))})"
   ]
  },
  {
   "cell_type": "code",
   "execution_count": 7,
   "metadata": {
    "collapsed": false
   },
   "outputs": [
    {
     "name": "stdout",
     "output_type": "stream",
     "text": [
      "name    Kristos\n",
      "sex        male\n",
      "Name: 56, dtype: object\n",
      "\n",
      "name    Orton\n",
      "sex      male\n",
      "Name: 38, dtype: object\n",
      "\n",
      "name      Shea\n",
      "sex     female\n",
      "Name: 486, dtype: object\n"
     ]
    }
   ],
   "source": [
    "# Just to make sure we all see the same thing\n",
    "print train.loc[56, :]\n",
    "print\n",
    "print validation.loc[38, :]\n",
    "print\n",
    "print test.loc[486, :]"
   ]
  },
  {
   "cell_type": "markdown",
   "metadata": {},
   "source": [
    "Names should be Kristos, Orton, and Shea"
   ]
  },
  {
   "cell_type": "markdown",
   "metadata": {},
   "source": [
    "## Maximum Entropy"
   ]
  },
  {
   "cell_type": "markdown",
   "metadata": {},
   "source": [
    "**Feature set to train classification on. Start with book example of taking last 2 letters of name**"
   ]
  },
  {
   "cell_type": "code",
   "execution_count": 8,
   "metadata": {
    "collapsed": true
   },
   "outputs": [],
   "source": [
    "def gender_features(word):\n",
    "    return {'suffix1': word[-1:], 'suffix2': word[-2:]}"
   ]
  },
  {
   "cell_type": "code",
   "execution_count": 9,
   "metadata": {
    "collapsed": false
   },
   "outputs": [
    {
     "data": {
      "text/plain": [
       "[({'suffix1': u'l', 'suffix2': u'el'}, 'male'),\n",
       " ({'suffix1': u's', 'suffix2': u'us'}, 'male'),\n",
       " ({'suffix1': u'n', 'suffix2': u'on'}, 'male'),\n",
       " ({'suffix1': u'd', 'suffix2': u'rd'}, 'male'),\n",
       " ({'suffix1': u'n', 'suffix2': u'in'}, 'male')]"
      ]
     },
     "execution_count": 9,
     "metadata": {},
     "output_type": "execute_result"
    }
   ],
   "source": [
    "features = [(gender_features(x), gender) for x, gender in train.values]\n",
    "features[:5]"
   ]
  },
  {
   "cell_type": "markdown",
   "metadata": {},
   "source": [
    "Train classifier.  \n",
    "  \n",
    "There's a few Maximum Entropy options available but the sklearn maxent wrapped in NLTK seems to be the most popular. The MaxentClassifier in SciPy appears almost deprecated now. Maximum entropy is also essentially logistic regression and can use sklearn's LogisticRegression function. "
   ]
  },
  {
   "cell_type": "code",
   "execution_count": 10,
   "metadata": {
    "collapsed": false
   },
   "outputs": [
    {
     "name": "stdout",
     "output_type": "stream",
     "text": [
      "  ==> Training (10 iterations)\n",
      "\n",
      "      Iteration    Log Likelihood    Accuracy\n",
      "      ---------------------------------------\n",
      "             1          -0.69315        0.371\n",
      "             2          -0.40233        0.791\n",
      "         Final          -0.35426        0.795\n"
     ]
    }
   ],
   "source": [
    "# SciPy implementation\n",
    "\n",
    "from nltk.classify import MaxentClassifier\n",
    "me_sp = MaxentClassifier.train(features, \n",
    "                                   trace = 10, # higher values = more verbose\n",
    "                                   max_iter = 10, # iterations\n",
    "                                   min_lldelta = 0.05, # entropy threshold when to stop iterating\n",
    "                                                    # lower=more fine-tuning, higher=less iterations\n",
    "                                   algorithm = 'gis') # generally preferred to iis"
   ]
  },
  {
   "cell_type": "code",
   "execution_count": 11,
   "metadata": {
    "collapsed": false
   },
   "outputs": [
    {
     "name": "stdout",
     "output_type": "stream",
     "text": [
      "Accuracy:\n"
     ]
    },
    {
     "data": {
      "text/plain": [
       "0.7985311059907834"
      ]
     },
     "execution_count": 11,
     "metadata": {},
     "output_type": "execute_result"
    }
   ],
   "source": [
    "# Scikit-learn Logistic Regression implementation\n",
    "\n",
    "from sklearn.linear_model import LogisticRegression\n",
    "from nltk.classify.scikitlearn import SklearnClassifier\n",
    "sk_classifier = SklearnClassifier(LogisticRegression())\n",
    "me_lr = sk_classifier.train(features)\n",
    "print(\"Accuracy:\")\n",
    "nltk.classify.accuracy(me_lr, features)"
   ]
  },
  {
   "cell_type": "code",
   "execution_count": 12,
   "metadata": {
    "collapsed": false
   },
   "outputs": [
    {
     "name": "stdout",
     "output_type": "stream",
     "text": [
      "  ==> Training (10 iterations)\n",
      "\n",
      "      Iteration    Log Likelihood    Accuracy\n",
      "      ---------------------------------------\n",
      "             1          -0.69315        0.371\n",
      "             2          -0.40233        0.791\n",
      "         Final          -0.35426        0.795\n"
     ]
    }
   ],
   "source": [
    "# Scikit-learn maxent implementation (nltk wrapper)\n",
    "\n",
    "from nltk.classify.scikitlearn import SklearnClassifier\n",
    "from nltk.classify import maxent\n",
    "\n",
    "me = nltk.classify.maxent.MaxentClassifier.train(features, \n",
    "                                                  trace = 10, \n",
    "                                                  max_iter = 10, \n",
    "                                                  min_lldelta = 0.05, \n",
    "                                                  algorithm = 'gis')"
   ]
  },
  {
   "cell_type": "markdown",
   "metadata": {},
   "source": [
    "All three methods had about the same accuracy. Let's stick with maxent for now."
   ]
  },
  {
   "cell_type": "code",
   "execution_count": 13,
   "metadata": {
    "collapsed": false
   },
   "outputs": [
    {
     "name": "stdout",
     "output_type": "stream",
     "text": [
      "  -3.204 suffix2==u'na' and label is 'male'\n",
      "  -3.169 suffix2==u'la' and label is 'male'\n",
      "  -2.782 suffix1==u'k' and label is 'female'\n",
      "  -2.568 suffix2==u'sa' and label is 'male'\n",
      "  -2.450 suffix2==u'ia' and label is 'male'\n",
      "  -2.407 suffix2==u'ra' and label is 'male'\n",
      "  -2.293 suffix1==u'a' and label is 'male'\n",
      "  -2.053 suffix2==u'ta' and label is 'male'\n",
      "  -1.872 suffix2==u'ti' and label is 'male'\n",
      "  -1.863 suffix2==u'ka' and label is 'male'\n"
     ]
    }
   ],
   "source": [
    "me.show_most_informative_features(n=10)"
   ]
  },
  {
   "cell_type": "markdown",
   "metadata": {},
   "source": [
    "> Females with suffix consonant + 'a' represent most of the highest labeled pairs."
   ]
  },
  {
   "cell_type": "markdown",
   "metadata": {},
   "source": [
    "Error Analysis - Validation Set"
   ]
  },
  {
   "cell_type": "code",
   "execution_count": 14,
   "metadata": {
    "collapsed": false
   },
   "outputs": [],
   "source": [
    "def error_analysis(maxentropy, dataset):\n",
    "    errors = []\n",
    "    for name, tag in dataset.values:\n",
    "        guess = maxentropy.classify(gender_features(name))\n",
    "        if guess != tag:\n",
    "            errors.append((tag, guess, name))\n",
    "    return(errors)"
   ]
  },
  {
   "cell_type": "code",
   "execution_count": 15,
   "metadata": {
    "collapsed": false
   },
   "outputs": [
    {
     "name": "stdout",
     "output_type": "stream",
     "text": [
      "95\n",
      "0.19\n"
     ]
    }
   ],
   "source": [
    "# percentage of errors\n",
    "e = error_analysis(me, validation)\n",
    "print(len(e))\n",
    "print(1.0 * len(e) / len(validation))"
   ]
  },
  {
   "cell_type": "markdown",
   "metadata": {},
   "source": [
    "Inspect errors"
   ]
  },
  {
   "cell_type": "code",
   "execution_count": 16,
   "metadata": {
    "collapsed": false
   },
   "outputs": [
    {
     "data": {
      "text/plain": [
       "[('male', 'female', u'Mortie'),\n",
       " ('male', 'female', u'Jeth'),\n",
       " ('male', 'female', u'Bealle'),\n",
       " ('male', 'female', u'Nickie'),\n",
       " ('male', 'female', u'Glynn'),\n",
       " ('male', 'female', u'Tonnie'),\n",
       " ('male', 'female', u'Tymothy'),\n",
       " ('male', 'female', u'Blayne'),\n",
       " ('male', 'female', u'Lex'),\n",
       " ('male', 'female', u'Gabriele'),\n",
       " ('male', 'female', u'Darien'),\n",
       " ('male', 'female', u'Dougie'),\n",
       " ('male', 'female', u'Wye'),\n",
       " ('male', 'female', u'Vite'),\n",
       " ('male', 'female', u'Len'),\n",
       " ('male', 'female', u'Barnaby'),\n",
       " ('male', 'female', u'Haley'),\n",
       " ('male', 'female', u'Karl'),\n",
       " ('male', 'female', u'Patel'),\n",
       " ('male', 'female', u'Meryl'),\n",
       " ('male', 'female', u'Alex'),\n",
       " ('male', 'female', u'Tobie'),\n",
       " ('male', 'female', u'Neel'),\n",
       " ('male', 'female', u'Burnaby'),\n",
       " ('male', 'female', u'Barnie'),\n",
       " ('male', 'female', u'Iggie'),\n",
       " ('male', 'female', u'Nevile'),\n",
       " ('male', 'female', u'Witty'),\n",
       " ('male', 'female', u'Sandy'),\n",
       " ('male', 'female', u'Emmanuel'),\n",
       " ('male', 'female', u'Timothee'),\n",
       " ('male', 'female', u'Garey'),\n",
       " ('male', 'female', u'Bennie'),\n",
       " ('male', 'female', u'Isaiah'),\n",
       " ('male', 'female', u'Richie'),\n",
       " ('male', 'female', u'Che'),\n",
       " ('male', 'female', u'Wesley'),\n",
       " ('male', 'female', u'Hari'),\n",
       " ('male', 'female', u'Kingsly'),\n",
       " ('male', 'female', u'Judith'),\n",
       " ('male', 'female', u'Benjamen'),\n",
       " ('male', 'female', u'Shelden'),\n",
       " ('male', 'female', u'Giovanne'),\n",
       " ('male', 'female', u'Michael'),\n",
       " ('male', 'female', u'Verge'),\n",
       " ('male', 'female', u'Demetre'),\n",
       " ('male', 'female', u'Rey'),\n",
       " ('male', 'female', u'Marven'),\n",
       " ('male', 'female', u'Prentice'),\n",
       " ('male', 'female', u'Virgie'),\n",
       " ('male', 'female', u'Tome'),\n",
       " ('male', 'female', u'Parry'),\n",
       " ('male', 'female', u'Paten'),\n",
       " ('male', 'female', u'Gene'),\n",
       " ('male', 'female', u'Quincey'),\n",
       " ('male', 'female', u'Barde'),\n",
       " ('male', 'female', u'Esau'),\n",
       " ('male', 'female', u'Noble'),\n",
       " ('male', 'female', u'Abel'),\n",
       " ('male', 'female', u'Kane'),\n",
       " ('male', 'female', u'Christy'),\n",
       " ('male', 'female', u'Torrey'),\n",
       " ('male', 'female', u'Yance'),\n",
       " ('male', 'female', u'Sly'),\n",
       " ('male', 'female', u'Tracie'),\n",
       " ('male', 'female', u'Anatole'),\n",
       " ('male', 'female', u'Vale'),\n",
       " ('male', 'female', u'Willy'),\n",
       " ('male', 'female', u'Keith'),\n",
       " ('female', 'male', u'Ester'),\n",
       " ('female', 'male', u'Sharon'),\n",
       " ('female', 'male', u'Friederike'),\n",
       " ('female', 'male', u'Liz'),\n",
       " ('female', 'male', u'Erin'),\n",
       " ('female', 'male', u'Jonell'),\n",
       " ('female', 'male', u'Hildegaard'),\n",
       " ('female', 'male', u'Jess'),\n",
       " ('female', 'male', u'Iris'),\n",
       " ('female', 'male', u'Sherill'),\n",
       " ('female', 'male', u'Gennifer'),\n",
       " ('female', 'male', u'Nicol'),\n",
       " ('female', 'male', u'Velvet'),\n",
       " ('female', 'male', u'Brooks'),\n",
       " ('female', 'male', u'Dyan'),\n",
       " ('female', 'male', u'Tatum'),\n",
       " ('female', 'male', u'Nil'),\n",
       " ('female', 'male', u'Millisent'),\n",
       " ('female', 'male', u'Theo'),\n",
       " ('female', 'male', u'Bell'),\n",
       " ('female', 'male', u'Haleigh'),\n",
       " ('female', 'male', u'May'),\n",
       " ('female', 'male', u'Doro'),\n",
       " ('female', 'male', u'Brear'),\n",
       " ('female', 'male', u'Devin'),\n",
       " ('female', 'male', u'Dallas')]"
      ]
     },
     "execution_count": 16,
     "metadata": {},
     "output_type": "execute_result"
    }
   ],
   "source": [
    "e"
   ]
  },
  {
   "cell_type": "markdown",
   "metadata": {},
   "source": [
    "> Eyeballing the errors, it seems a few male names ending in 'e' were mislabeled. Also, female names ending in 'l'."
   ]
  },
  {
   "cell_type": "markdown",
   "metadata": {},
   "source": [
    "Evaluate test set"
   ]
  },
  {
   "cell_type": "code",
   "execution_count": 17,
   "metadata": {
    "collapsed": false
   },
   "outputs": [
    {
     "name": "stdout",
     "output_type": "stream",
     "text": [
      "0.776\n"
     ]
    }
   ],
   "source": [
    "test_features = [(gender_features(x), gender) for x, gender in test.values]\n",
    "print(nltk.classify.accuracy(me, test_features))"
   ]
  },
  {
   "cell_type": "markdown",
   "metadata": {},
   "source": [
    "> Slightly worse than the training and validation sets, but doesn't seem to be overfitting.   "
   ]
  },
  {
   "cell_type": "markdown",
   "metadata": {},
   "source": [
    "**Feature Set 2: Add combination of first and last two letters of the name.**"
   ]
  },
  {
   "cell_type": "code",
   "execution_count": 18,
   "metadata": {
    "collapsed": true
   },
   "outputs": [],
   "source": [
    "def gender_features2(word):\n",
    "    return {'suffix1': word[-1:], 'suffix2': word[-2:], 'firstlast':(word[:2],word[-2:])}"
   ]
  },
  {
   "cell_type": "code",
   "execution_count": 19,
   "metadata": {
    "collapsed": false
   },
   "outputs": [
    {
     "name": "stdout",
     "output_type": "stream",
     "text": [
      "  ==> Training (10 iterations)\n",
      "\n",
      "      Iteration    Log Likelihood    Accuracy\n",
      "      ---------------------------------------\n",
      "             1          -0.69315        0.371\n",
      "             2          -0.38022        0.864\n",
      "             3          -0.30843        0.878\n",
      "         Final          -0.27411        0.886\n"
     ]
    }
   ],
   "source": [
    "features2 = [(gender_features2(x), gender) for x, gender in train.values]\n",
    "me2 = nltk.classify.maxent.MaxentClassifier.train(features2, \n",
    "                                                  trace = 10, \n",
    "                                                  max_iter = 10, \n",
    "                                                  min_lldelta = 0.05, \n",
    "                                                  algorithm = 'gis')"
   ]
  },
  {
   "cell_type": "code",
   "execution_count": 20,
   "metadata": {
    "collapsed": false
   },
   "outputs": [
    {
     "name": "stdout",
     "output_type": "stream",
     "text": [
      "95\n",
      "0.19\n"
     ]
    }
   ],
   "source": [
    "e2 = error_analysis(me2, validation)\n",
    "print(len(e2))\n",
    "print(1.0 * len(e2) / len(validation))"
   ]
  },
  {
   "cell_type": "markdown",
   "metadata": {},
   "source": [
    "The accuracy was much better on the training set but was the exact same as before for the validation set. We probably just overfitted the training set. "
   ]
  },
  {
   "cell_type": "code",
   "execution_count": 21,
   "metadata": {
    "collapsed": false
   },
   "outputs": [
    {
     "name": "stdout",
     "output_type": "stream",
     "text": [
      "0.794\n"
     ]
    }
   ],
   "source": [
    "test_features2 = [(gender_features2(x), gender) for x, gender in test.values]\n",
    "print(nltk.classify.accuracy(me2, test_features2))"
   ]
  },
  {
   "cell_type": "markdown",
   "metadata": {},
   "source": [
    "Test accuracy is only slightly improved. Definitely seems like we overfitted the training set."
   ]
  },
  {
   "cell_type": "code",
   "execution_count": 22,
   "metadata": {
    "collapsed": false
   },
   "outputs": [
    {
     "name": "stdout",
     "output_type": "stream",
     "text": [
      "       |   f     |\n",
      "       |   e     |\n",
      "       |   m   m |\n",
      "       |   a   a |\n",
      "       |   l   l |\n",
      "       |   e   e |\n",
      "-------+---------+\n",
      "female |<269> 57 |\n",
      "  male |  46<128>|\n",
      "-------+---------+\n",
      "(row = reference; col = test)\n",
      "\n"
     ]
    }
   ],
   "source": [
    "test_predict = [me2.classify(feature) for feature,gender in test_features2]\n",
    "test_actual = [gender for feature, gender in test.values]\n",
    "cm = nltk.ConfusionMatrix(test_predict, test_actual)\n",
    "print(cm)"
   ]
  },
  {
   "cell_type": "code",
   "execution_count": 23,
   "metadata": {
    "collapsed": false
   },
   "outputs": [
    {
     "name": "stdout",
     "output_type": "stream",
     "text": [
      "  -3.103 suffix2==u'na' and label is 'male'\n",
      "  -3.071 suffix2==u'la' and label is 'male'\n",
      "  -2.724 suffix1==u'k' and label is 'female'\n",
      "  -2.448 suffix2==u'sa' and label is 'male'\n",
      "  -2.325 suffix2==u'ia' and label is 'male'\n",
      "  -2.281 suffix2==u'ra' and label is 'male'\n",
      "  -2.166 suffix1==u'a' and label is 'male'\n",
      "  -1.896 suffix2==u'ta' and label is 'male'\n",
      "  -1.796 suffix2==u'ti' and label is 'male'\n",
      "   1.786 firstlast==(u'Ez', u'ra') and label is 'male'\n"
     ]
    }
   ],
   "source": [
    "me2.show_most_informative_features(n=10)"
   ]
  },
  {
   "cell_type": "markdown",
   "metadata": {},
   "source": [
    "**Feature Set 3: Add first 3 letters of name**"
   ]
  },
  {
   "cell_type": "code",
   "execution_count": 24,
   "metadata": {
    "collapsed": false
   },
   "outputs": [
    {
     "name": "stdout",
     "output_type": "stream",
     "text": [
      "  ==> Training (10 iterations)\n",
      "\n",
      "      Iteration    Log Likelihood    Accuracy\n",
      "      ---------------------------------------\n",
      "             1          -0.69315        0.371\n",
      "             2          -0.39845        0.839\n",
      "             3          -0.32913        0.853\n",
      "         Final          -0.29756        0.860\n"
     ]
    }
   ],
   "source": [
    "def gender_features3(word):\n",
    "    return {'suffix1': word[-1:], 'suffix2': word[-2:], 'prefix3':word[:3]}\n",
    "\n",
    "features3 = [(gender_features3(x), gender) for x, gender in train.values]\n",
    "me3 = nltk.classify.maxent.MaxentClassifier.train(features3, \n",
    "                                                  trace = 10, \n",
    "                                                  max_iter = 10, \n",
    "                                                  min_lldelta = 0.05, \n",
    "                                                  algorithm = 'gis')"
   ]
  },
  {
   "cell_type": "code",
   "execution_count": 25,
   "metadata": {
    "collapsed": false
   },
   "outputs": [
    {
     "name": "stdout",
     "output_type": "stream",
     "text": [
      "0.832\n",
      "0.8\n"
     ]
    }
   ],
   "source": [
    "validation_features3 = [(gender_features3(x), gender) for x, gender in validation.values]\n",
    "print(nltk.classify.accuracy(me3, validation_features3))\n",
    "test_features3 = [(gender_features3(x), gender) for x, gender in test.values]\n",
    "print(nltk.classify.accuracy(me3, test_features3))"
   ]
  },
  {
   "cell_type": "markdown",
   "metadata": {},
   "source": [
    "Getting closer. Baby steps ;)"
   ]
  },
  {
   "cell_type": "code",
   "execution_count": 26,
   "metadata": {
    "collapsed": false
   },
   "outputs": [
    {
     "name": "stdout",
     "output_type": "stream",
     "text": [
      "91\n",
      "0.182\n"
     ]
    },
    {
     "data": {
      "text/plain": [
       "[('male', 'female', u'Mortie'),\n",
       " ('male', 'female', u'Jeth'),\n",
       " ('male', 'female', u'Bealle'),\n",
       " ('male', 'female', u'Nickie'),\n",
       " ('male', 'female', u'Glynn'),\n",
       " ('male', 'female', u'Tonnie'),\n",
       " ('male', 'female', u'Tymothy'),\n",
       " ('male', 'female', u'Blayne'),\n",
       " ('male', 'female', u'Lex'),\n",
       " ('male', 'female', u'Gabriele'),\n",
       " ('male', 'female', u'Dougie'),\n",
       " ('male', 'female', u'Wye'),\n",
       " ('male', 'female', u'Vite'),\n",
       " ('male', 'female', u'Haley'),\n",
       " ('male', 'female', u'Karl'),\n",
       " ('male', 'female', u'Meryl'),\n",
       " ('male', 'female', u'Alex'),\n",
       " ('male', 'female', u'Tobie'),\n",
       " ('male', 'female', u'Barnie'),\n",
       " ('male', 'female', u'Iggie'),\n",
       " ('male', 'female', u'Nevile'),\n",
       " ('male', 'female', u'Witty'),\n",
       " ('male', 'female', u'Sandy'),\n",
       " ('male', 'female', u'Timothee'),\n",
       " ('male', 'female', u'Garey'),\n",
       " ('male', 'female', u'Bennie'),\n",
       " ('male', 'female', u'Isaiah'),\n",
       " ('male', 'female', u'Richie'),\n",
       " ('male', 'female', u'Che'),\n",
       " ('male', 'female', u'Wesley'),\n",
       " ('male', 'female', u'Hari'),\n",
       " ('male', 'female', u'Kingsly'),\n",
       " ('male', 'female', u'Judith'),\n",
       " ('male', 'female', u'Giovanne'),\n",
       " ('male', 'female', u'Verge'),\n",
       " ('male', 'female', u'Demetre'),\n",
       " ('male', 'female', u'Rey'),\n",
       " ('male', 'female', u'Prentice'),\n",
       " ('male', 'female', u'Virgie'),\n",
       " ('male', 'female', u'Tome'),\n",
       " ('male', 'female', u'Parry'),\n",
       " ('male', 'female', u'Gene'),\n",
       " ('male', 'female', u'Quincey'),\n",
       " ('male', 'female', u'Barde'),\n",
       " ('male', 'female', u'Esau'),\n",
       " ('male', 'female', u'Noble'),\n",
       " ('male', 'female', u'Kane'),\n",
       " ('male', 'female', u'Christy'),\n",
       " ('male', 'female', u'Torrey'),\n",
       " ('male', 'female', u'Yance'),\n",
       " ('male', 'female', u'Sly'),\n",
       " ('male', 'female', u'Tracie'),\n",
       " ('male', 'female', u'Anatole'),\n",
       " ('male', 'female', u'Vale'),\n",
       " ('male', 'female', u'Willy'),\n",
       " ('male', 'female', u'Keith'),\n",
       " ('female', 'male', u'Shelby'),\n",
       " ('female', 'male', u'Ester'),\n",
       " ('female', 'male', u'Sharon'),\n",
       " ('female', 'male', u'Friederike'),\n",
       " ('female', 'male', u'Rosabel'),\n",
       " ('female', 'male', u'Liz'),\n",
       " ('female', 'male', u'Erin'),\n",
       " ('female', 'male', u'Jonell'),\n",
       " ('female', 'male', u'Karleen'),\n",
       " ('female', 'male', u'Hildegaard'),\n",
       " ('female', 'male', u'Kristel'),\n",
       " ('female', 'male', u'Jess'),\n",
       " ('female', 'male', u'Iris'),\n",
       " ('female', 'male', u'Sherill'),\n",
       " ('female', 'male', u'Gennifer'),\n",
       " ('female', 'male', u'Suellen'),\n",
       " ('female', 'male', u'Nicol'),\n",
       " ('female', 'male', u'Velvet'),\n",
       " ('female', 'male', u'Brooks'),\n",
       " ('female', 'male', u'Dyan'),\n",
       " ('female', 'male', u'Tatum'),\n",
       " ('female', 'male', u'Cathleen'),\n",
       " ('female', 'male', u'Nil'),\n",
       " ('female', 'male', u'Millisent'),\n",
       " ('female', 'male', u'Jewel'),\n",
       " ('female', 'male', u'Theo'),\n",
       " ('female', 'male', u'Bell'),\n",
       " ('female', 'male', u'Haleigh'),\n",
       " ('female', 'male', u'May'),\n",
       " ('female', 'male', u'Doro'),\n",
       " ('female', 'male', u'Brear'),\n",
       " ('female', 'male', u'Rakel'),\n",
       " ('female', 'male', u'Devin'),\n",
       " ('female', 'male', u'Dallas'),\n",
       " ('female', 'male', u'Mariel')]"
      ]
     },
     "execution_count": 26,
     "metadata": {},
     "output_type": "execute_result"
    }
   ],
   "source": [
    "e3 = error_analysis(me3, validation)\n",
    "print(len(e3))\n",
    "print(1.0 * len(e3) / len(validation))\n",
    "e3"
   ]
  },
  {
   "cell_type": "markdown",
   "metadata": {},
   "source": [
    "**Feature Set 4: First and last letter only**  \n",
    "*Note: this was one of the optimal Naive Bayes implementations*"
   ]
  },
  {
   "cell_type": "code",
   "execution_count": 27,
   "metadata": {
    "collapsed": false
   },
   "outputs": [
    {
     "name": "stdout",
     "output_type": "stream",
     "text": [
      "  ==> Training (10 iterations)\n",
      "\n",
      "      Iteration    Log Likelihood    Accuracy\n",
      "      ---------------------------------------\n",
      "             1          -0.69315        0.371\n",
      "             2          -0.49096        0.768\n",
      "             3          -0.42445        0.778\n",
      "         Final          -0.39486        0.781\n"
     ]
    }
   ],
   "source": [
    "def gender_features4(word):\n",
    "    return {'suffix1': word[-1:], 'prefix1': word[:1]}\n",
    "\n",
    "features4 = [(gender_features4(x), gender) for x, gender in train.values]\n",
    "me4 = nltk.classify.maxent.MaxentClassifier.train(features4, \n",
    "                                                  trace = 10, \n",
    "                                                  max_iter = 10, \n",
    "                                                  min_lldelta = 0.05, \n",
    "                                                  algorithm = 'gis')"
   ]
  },
  {
   "cell_type": "code",
   "execution_count": 28,
   "metadata": {
    "collapsed": false
   },
   "outputs": [
    {
     "name": "stdout",
     "output_type": "stream",
     "text": [
      "0.792\n",
      "0.74\n"
     ]
    }
   ],
   "source": [
    "validation_features4 = [(gender_features4(x), gender) for x, gender in validation.values]\n",
    "print(nltk.classify.accuracy(me4, validation_features4))\n",
    "test_features4 = [(gender_features4(x), gender) for x, gender in test.values]\n",
    "print(nltk.classify.accuracy(me4, test_features4))"
   ]
  },
  {
   "cell_type": "markdown",
   "metadata": {},
   "source": [
    "**Feature Set 5: Last letter, length of name, number of vowels**  \n",
    "*Note: this was one of the optimal Decision Tree implementations*"
   ]
  },
  {
   "cell_type": "code",
   "execution_count": 29,
   "metadata": {
    "collapsed": false
   },
   "outputs": [
    {
     "name": "stdout",
     "output_type": "stream",
     "text": [
      "  ==> Training (10 iterations)\n",
      "\n",
      "      Iteration    Log Likelihood    Accuracy\n",
      "      ---------------------------------------\n",
      "             1          -0.69315        0.371\n",
      "             2          -0.51806        0.722\n",
      "             3          -0.45559        0.760\n",
      "         Final          -0.42421        0.767\n"
     ]
    }
   ],
   "source": [
    "def numVowels(word):\n",
    "    vowels = ['a','e','i','o','u']\n",
    "    return sum(word.count(v) for v in vowels)\n",
    "    \n",
    "    \n",
    "def gender_features5(word):\n",
    "    return {'length': len(word), 'suffix1': word[-1:], 'vowels': numVowels(word)}\n",
    "\n",
    "features5 = [(gender_features5(x), gender) for x, gender in train.values]\n",
    "me5 = nltk.classify.maxent.MaxentClassifier.train(features5, \n",
    "                                                  trace = 10, \n",
    "                                                  max_iter = 10, \n",
    "                                                  min_lldelta = 0.05, \n",
    "                                                  algorithm = 'gis')\n",
    "\n"
   ]
  },
  {
   "cell_type": "code",
   "execution_count": 30,
   "metadata": {
    "collapsed": false
   },
   "outputs": [
    {
     "name": "stdout",
     "output_type": "stream",
     "text": [
      "0.78\n",
      "0.746\n"
     ]
    }
   ],
   "source": [
    "validation_features5 = [(gender_features5(x), gender) for x, gender in validation.values]\n",
    "print(nltk.classify.accuracy(me5, validation_features5))\n",
    "test_features5 = [(gender_features5(x), gender) for x, gender in test.values]\n",
    "print(nltk.classify.accuracy(me5, test_features5))"
   ]
  }
 ],
 "metadata": {
  "kernelspec": {
   "display_name": "Python 2",
   "language": "python",
   "name": "python2"
  },
  "language_info": {
   "codemirror_mode": {
    "name": "ipython",
    "version": 2
   },
   "file_extension": ".py",
   "mimetype": "text/x-python",
   "name": "python",
   "nbconvert_exporter": "python",
   "pygments_lexer": "ipython2",
   "version": "2.7.9"
  }
 },
 "nbformat": 4,
 "nbformat_minor": 0
}
