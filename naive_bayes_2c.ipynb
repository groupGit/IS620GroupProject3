{
 "cells": [
  {
   "cell_type": "markdown",
   "metadata": {},
   "source": [
    "# IS620 Group Project"
   ]
  },
  {
   "cell_type": "markdown",
   "metadata": {},
   "source": [
    "<b>Group project: Using any of the three classifiers described in chapter 6 of Natural Language Processing with Python, and any features you can think of, build the best name gender classifier you can. Begin by splitting the Names Corpus into three subsets: 500 words for the test set, 500 words for the dev- test set, and the remaining 6900 words for the training set. Then, starting with the example name gender classifier, make incremental improvements. Use the dev-test set to check your progress. Once you are satisfied with your classifier, check its final performance on the test set. How does the performance on the test set compare to the performance on the dev-test set? Is this what you'd expect?</b>"
   ]
  },
  {
   "cell_type": "markdown",
   "metadata": {},
   "source": [
    "<font color= blue> <b>Group Members:- Aaron Palumbo, Brian Chu,  David Stern, Partha Banerjee;  Rohan Fray, Tulasi Ramarao;</b></font>"
   ]
  },
  {
   "cell_type": "markdown",
   "metadata": {},
   "source": [
    "[**Partho**] I am reworking on this with permission from Prof. Amit due to my little participation with the awesome group work."
   ]
  },
  {
   "cell_type": "markdown",
   "metadata": {
    "collapsed": true
   },
   "source": [
    "## Environment"
   ]
  },
  {
   "cell_type": "code",
   "execution_count": 1,
   "metadata": {
    "collapsed": true
   },
   "outputs": [],
   "source": [
    "import nltk\n",
    "import numpy as np\n",
    "import pandas as pd\n",
    "import string\n",
    "from sklearn.cross_validation import train_test_split"
   ]
  },
  {
   "cell_type": "markdown",
   "metadata": {},
   "source": [
    "## Data Preparation"
   ]
  },
  {
   "cell_type": "code",
   "execution_count": 2,
   "metadata": {
    "collapsed": false
   },
   "outputs": [
    {
     "name": "stdout",
     "output_type": "stream",
     "text": [
      "Number of male names:   2943\n",
      "Number of female names: 5001\n",
      "Total names:            7944\n"
     ]
    }
   ],
   "source": [
    "names = nltk.corpus.names\n",
    "maleNames = names.words('male.txt')\n",
    "femaleNames = names.words('female.txt')\n",
    "\n",
    "print \"Number of male names:   {}\".format(len(maleNames))\n",
    "print \"Number of female names: {}\".format(len(femaleNames))\n",
    "print \"Total names:            {}\".format(len(names.words()))"
   ]
  },
  {
   "cell_type": "markdown",
   "metadata": {},
   "source": [
    "Per instruction, we have to split the Names Corpus into three subsets: 500 words for the test set, 500 words for the dev-test or validation set, and the remaining words for the training set.\n",
    "\n",
    "Let us do it based upon data in each category."
   ]
  },
  {
   "cell_type": "code",
   "execution_count": 3,
   "metadata": {
    "collapsed": false
   },
   "outputs": [
    {
     "name": "stdout",
     "output_type": "stream",
     "text": [
      "Male: 37.05%\n"
     ]
    }
   ],
   "source": [
    "perMale = 1.0 * len(maleNames) / (len(maleNames) + len(femaleNames))\n",
    "print \"Male: {}%\".format(round(perMale,4)*100)"
   ]
  },
  {
   "cell_type": "code",
   "execution_count": 4,
   "metadata": {
    "collapsed": false
   },
   "outputs": [
    {
     "name": "stdout",
     "output_type": "stream",
     "text": [
      "Number of male names in each of our test and validation set will be:   185\n",
      "Number of female names in each our of test and validation set will be: 315\n"
     ]
    }
   ],
   "source": [
    "# numbers for data splitting\n",
    "numTestMale = int(perMale * 500)\n",
    "numTestFemale = 500 - numTestMale\n",
    "\n",
    "print \"Number of male names in each of our test and validation set will be:   {}\".format(numTestMale)\n",
    "print \"Number of female names in each our of test and validation set will be: {}\".format(numTestFemale)"
   ]
  },
  {
   "cell_type": "code",
   "execution_count": 5,
   "metadata": {
    "collapsed": false
   },
   "outputs": [
    {
     "name": "stdout",
     "output_type": "stream",
     "text": [
      "Train Set      = 2573  + 4371  = 6944\t(Should be > 6900)\n",
      "Validation Set = 185   + 315   = 500\t(Should be 500)\n",
      "Test Set       = 185   + 315   = 500\t(Should be 500)\n"
     ]
    }
   ],
   "source": [
    "maleTrain, maleTest = train_test_split(\n",
    "    maleNames, test_size=numTestMale, random_state=50)\n",
    "maleTrain, maleVal = train_test_split(\n",
    "    maleTrain, test_size=numTestMale, random_state=50)\n",
    "\n",
    "femaleTrain, femaleTest = train_test_split(\n",
    "    femaleNames, test_size=numTestFemale, random_state=50)\n",
    "femaleTrain, femaleVal = train_test_split(\n",
    "    femaleTrain, test_size=numTestFemale, random_state=50)\n",
    "\n",
    "# Check numbers\n",
    "print \"Train Set      = {:<5} + {:<5} = {}\\t(Should be > 6900)\".format(len(maleTrain), len(femaleTrain), len(maleTrain) + len(femaleTrain))\n",
    "print \"Validation Set = {:<5} + {:<5} = {}\\t(Should be 500)\".format(len(maleVal), len(femaleVal), len(maleVal) + len(femaleVal))\n",
    "print \"Test Set       = {:<5} + {:<5} = {}\\t(Should be 500)\".format(len(maleTest), len(femaleTest), len(maleTest) + len(femaleTest))"
   ]
  },
  {
   "cell_type": "markdown",
   "metadata": {},
   "source": [
    "Finally, prepare 3 separate data sets."
   ]
  },
  {
   "cell_type": "code",
   "execution_count": 6,
   "metadata": {
    "collapsed": false
   },
   "outputs": [],
   "source": [
    "train = ([(name, 'male') for name in maleTrain]+[(name, 'female') for name in femaleTrain])\n",
    "validation = ([(name, 'male') for name in maleVal]+[(name, 'female') for name in femaleVal])\n",
    "test = ([(name, 'male') for name in maleTest]+[(name, 'female') for name in femaleTest])"
   ]
  },
  {
   "cell_type": "markdown",
   "metadata": {},
   "source": [
    "## Naive Bayes"
   ]
  },
  {
   "cell_type": "code",
   "execution_count": 7,
   "metadata": {
    "collapsed": true
   },
   "outputs": [],
   "source": [
    "def gender_features(name):\n",
    "    features = {}\n",
    "    \n",
    "    if options['first_letter']:\n",
    "        features[\"first_letter\"] = name[0].lower()\n",
    "    if options['last_letter']:\n",
    "        features[\"last_letter\"] = name[-1].lower()\n",
    "    if options['first_two']:\n",
    "        features[\"first_two\"] = name[:2].lower()\n",
    "    if options['last_two']:\n",
    "        features[\"last_two\"] = name[-2:].lower()\n",
    "    if options['first_three']:\n",
    "        features[\"first_three\"] = name[:3].lower()\n",
    "    if options['last_three']:\n",
    "        features[\"last_three\"] = name[-3:].lower()\n",
    "    if options['length']:\n",
    "        features[\"length\"] = str(len(name))\n",
    "\n",
    "    return features"
   ]
  },
  {
   "cell_type": "markdown",
   "metadata": {},
   "source": [
    "Let us start with the last character alone."
   ]
  },
  {
   "cell_type": "code",
   "execution_count": 8,
   "metadata": {
    "collapsed": false
   },
   "outputs": [
    {
     "name": "stdout",
     "output_type": "stream",
     "text": [
      "0.742\n"
     ]
    }
   ],
   "source": [
    "options = {'first_letter': False,\n",
    "           'last_letter':  True,\n",
    "           'first_two':    False,\n",
    "           'last_two':     False,\n",
    "           'first_three':  False,\n",
    "           'last_three':   False,\n",
    "           'length':       False}\n",
    "\n",
    "train_set = [(gender_features(n), g) for (n,g) in train]\n",
    "valid_set = [(gender_features(n), g) for (n,g) in validation]\n",
    "\n",
    "classifier = nltk.NaiveBayesClassifier.train(train_set)\n",
    "print nltk.classify.accuracy(classifier, valid_set)"
   ]
  },
  {
   "cell_type": "markdown",
   "metadata": {},
   "source": [
    "74.2% accuracy is good, but not great. Let us change the feature extractor. This time let us consider with first and last characters together."
   ]
  },
  {
   "cell_type": "code",
   "execution_count": 9,
   "metadata": {
    "collapsed": false
   },
   "outputs": [
    {
     "name": "stdout",
     "output_type": "stream",
     "text": [
      "0.75\n"
     ]
    }
   ],
   "source": [
    "options = {'first_letter': True,\n",
    "           'last_letter':  True,\n",
    "           'first_two':    False,\n",
    "           'last_two':     False,\n",
    "           'first_three':  False,\n",
    "           'last_three':   False,\n",
    "           'length':       False}\n",
    "\n",
    "train_set = [(gender_features(n), g) for (n,g) in train]\n",
    "valid_set = [(gender_features(n), g) for (n,g) in validation]\n",
    "\n",
    "classifier = nltk.NaiveBayesClassifier.train(train_set)\n",
    "print nltk.classify.accuracy(classifier, valid_set)"
   ]
  },
  {
   "cell_type": "markdown",
   "metadata": {},
   "source": [
    "Better, yet not much progress. Let us try with last 2 letters."
   ]
  },
  {
   "cell_type": "code",
   "execution_count": 10,
   "metadata": {
    "collapsed": false
   },
   "outputs": [
    {
     "name": "stdout",
     "output_type": "stream",
     "text": [
      "0.788\n"
     ]
    }
   ],
   "source": [
    "options = {'first_letter': False,\n",
    "           'last_letter':  False,\n",
    "           'first_two':    False,\n",
    "           'last_two':     True,\n",
    "           'first_three':  False,\n",
    "           'last_three':   False,\n",
    "           'length':       False}\n",
    "\n",
    "train_set = [(gender_features(n), g) for (n,g) in train]\n",
    "valid_set = [(gender_features(n), g) for (n,g) in validation]\n",
    "\n",
    "classifier = nltk.NaiveBayesClassifier.train(train_set)\n",
    "print nltk.classify.accuracy(classifier, valid_set)"
   ]
  },
  {
   "cell_type": "markdown",
   "metadata": {},
   "source": [
    "Looks promising. Let us try first 2 letters and last 2 letters together."
   ]
  },
  {
   "cell_type": "code",
   "execution_count": 11,
   "metadata": {
    "collapsed": false
   },
   "outputs": [
    {
     "name": "stdout",
     "output_type": "stream",
     "text": [
      "0.804\n"
     ]
    }
   ],
   "source": [
    "options = {'first_letter': False,\n",
    "           'last_letter':  False,\n",
    "           'first_two':    True,\n",
    "           'last_two':     True,\n",
    "           'first_three':  False,\n",
    "           'last_three':   False,\n",
    "           'length':       False}\n",
    "\n",
    "train_set = [(gender_features(n), g) for (n,g) in train]\n",
    "valid_set = [(gender_features(n), g) for (n,g) in validation]\n",
    "\n",
    "classifier = nltk.NaiveBayesClassifier.train(train_set)\n",
    "print nltk.classify.accuracy(classifier, valid_set)"
   ]
  },
  {
   "cell_type": "markdown",
   "metadata": {},
   "source": [
    "Try to see if further better result is possible. Let us check with last 3 letters."
   ]
  },
  {
   "cell_type": "code",
   "execution_count": 12,
   "metadata": {
    "collapsed": false
   },
   "outputs": [
    {
     "name": "stdout",
     "output_type": "stream",
     "text": [
      "0.776\n"
     ]
    }
   ],
   "source": [
    "options = {'first_letter': False,\n",
    "           'last_letter':  False,\n",
    "           'first_two':    False,\n",
    "           'last_two':     False,\n",
    "           'first_three':  False,\n",
    "           'last_three':   True,\n",
    "           'length':       False}\n",
    "\n",
    "train_set = [(gender_features(n), g) for (n,g) in train]\n",
    "valid_set = [(gender_features(n), g) for (n,g) in validation]\n",
    "\n",
    "classifier = nltk.NaiveBayesClassifier.train(train_set)\n",
    "print nltk.classify.accuracy(classifier, valid_set)"
   ]
  },
  {
   "cell_type": "markdown",
   "metadata": {},
   "source": [
    "No good, try with first 3 and last 3 together."
   ]
  },
  {
   "cell_type": "code",
   "execution_count": 13,
   "metadata": {
    "collapsed": false
   },
   "outputs": [
    {
     "name": "stdout",
     "output_type": "stream",
     "text": [
      "0.808\n"
     ]
    }
   ],
   "source": [
    "options = {'first_letter': False,\n",
    "           'last_letter':  False,\n",
    "           'first_two':    False,\n",
    "           'last_two':     False,\n",
    "           'first_three':  True,\n",
    "           'last_three':   True,\n",
    "           'length':       False}\n",
    "\n",
    "train_set = [(gender_features(n), g) for (n,g) in train]\n",
    "valid_set = [(gender_features(n), g) for (n,g) in validation]\n",
    "\n",
    "classifier = nltk.NaiveBayesClassifier.train(train_set)\n",
    "print nltk.classify.accuracy(classifier, valid_set)"
   ]
  },
  {
   "cell_type": "markdown",
   "metadata": {},
   "source": [
    "Not much difference between 2 characters and 3 characters at the begining and end. Now let's play with the length of the name with the above combinations. Let us check whether adding length of the name has any influence."
   ]
  },
  {
   "cell_type": "code",
   "execution_count": 14,
   "metadata": {
    "collapsed": false
   },
   "outputs": [
    {
     "name": "stdout",
     "output_type": "stream",
     "text": [
      "0.8\n"
     ]
    }
   ],
   "source": [
    "options = {'first_letter': False,\n",
    "           'last_letter':  False,\n",
    "           'first_two':    False,\n",
    "           'last_two':     False,\n",
    "           'first_three':  True,\n",
    "           'last_three':   True,\n",
    "           'length':       True}\n",
    "\n",
    "train_set = [(gender_features(n), g) for (n,g) in train]\n",
    "valid_set = [(gender_features(n), g) for (n,g) in validation]\n",
    "\n",
    "classifier = nltk.NaiveBayesClassifier.train(train_set)\n",
    "print nltk.classify.accuracy(classifier, valid_set)"
   ]
  },
  {
   "cell_type": "markdown",
   "metadata": {},
   "source": [
    "I will go with the result of first 2 and last 2 letters having 80% accuracy. Now let us see the error cases where it is making wrong guess."
   ]
  },
  {
   "cell_type": "code",
   "execution_count": 15,
   "metadata": {
    "collapsed": false
   },
   "outputs": [],
   "source": [
    "options = {'first_letter': False,\n",
    "           'last_letter':  False,\n",
    "           'first_two':    True,\n",
    "           'last_two':     True,\n",
    "           'first_three':  False,\n",
    "           'last_three':   False,\n",
    "           'length':       False}\n",
    "\n",
    "train_set = [(gender_features(n), g) for (n,g) in train]\n",
    "classifier = nltk.NaiveBayesClassifier.train(train_set)"
   ]
  },
  {
   "cell_type": "code",
   "execution_count": 16,
   "metadata": {
    "collapsed": false
   },
   "outputs": [
    {
     "name": "stdout",
     "output_type": "stream",
     "text": [
      "Number of error cases: 98 of 500.\n",
      "\n",
      "And they are:\n",
      "correct=female   guess=male     name=Alex                          \n",
      "correct=female   guess=male     name=Astrid                        \n",
      "correct=female   guess=male     name=Avril                         \n",
      "correct=female   guess=male     name=Brook                         \n",
      "correct=female   guess=male     name=Buffy                         \n",
      "correct=female   guess=male     name=Charlean                      \n",
      "correct=female   guess=male     name=Clary                         \n",
      "correct=female   guess=male     name=Devin                         \n",
      "correct=female   guess=male     name=Dulcy                         \n",
      "correct=female   guess=male     name=Easter                        \n",
      "correct=female   guess=male     name=Ethelin                       \n",
      "correct=female   guess=male     name=Francesmary                   \n",
      "correct=female   guess=male     name=Frank                         \n",
      "correct=female   guess=male     name=Franky                        \n",
      "correct=female   guess=male     name=Garnet                        \n",
      "correct=female   guess=male     name=George                        \n",
      "correct=female   guess=male     name=Gillian                       \n",
      "correct=female   guess=male     name=Gray                          \n",
      "correct=female   guess=male     name=Haleigh                       \n",
      "correct=female   guess=male     name=Hatty                         \n",
      "correct=female   guess=male     name=Hedy                          \n",
      "correct=female   guess=male     name=Hilliary                      \n",
      "correct=female   guess=male     name=Jess                          \n",
      "correct=female   guess=male     name=Kerry                         \n",
      "correct=female   guess=male     name=Maegan                        \n",
      "correct=female   guess=male     name=Marilin                       \n",
      "correct=female   guess=male     name=Marillin                      \n",
      "correct=female   guess=male     name=Meghan                        \n",
      "correct=female   guess=male     name=Ottilie                       \n",
      "correct=female   guess=male     name=Philippe                      \n",
      "correct=female   guess=male     name=Quentin                       \n",
      "correct=female   guess=male     name=Rayshell                      \n",
      "correct=female   guess=male     name=Remy                          \n",
      "correct=female   guess=male     name=Rhiamon                       \n",
      "correct=female   guess=male     name=Storey                        \n",
      "correct=female   guess=male     name=Theo                          \n",
      "correct=female   guess=male     name=Tiff                          \n",
      "correct=female   guess=male     name=Toby                          \n",
      "correct=female   guess=male     name=Waly                          \n",
      "correct=male     guess=female   name=Andonis                       \n",
      "correct=male     guess=female   name=Arie                          \n",
      "correct=male     guess=female   name=Augustine                     \n",
      "correct=male     guess=female   name=Benjamen                      \n",
      "correct=male     guess=female   name=Brooks                        \n",
      "correct=male     guess=female   name=Carlyle                       \n",
      "correct=male     guess=female   name=Che                           \n",
      "correct=male     guess=female   name=Clare                         \n",
      "correct=male     guess=female   name=Cyrill                        \n",
      "correct=male     guess=female   name=Demetre                       \n",
      "correct=male     guess=female   name=Dominique                     \n",
      "correct=male     guess=female   name=Elvin                         \n",
      "correct=male     guess=female   name=Emmanuel                      \n",
      "correct=male     guess=female   name=Evelyn                        \n",
      "correct=male     guess=female   name=Fairfax                       \n",
      "correct=male     guess=female   name=Finley                        \n",
      "correct=male     guess=female   name=Geoffrey                      \n",
      "correct=male     guess=female   name=Gere                          \n",
      "correct=male     guess=female   name=Germaine                      \n",
      "correct=male     guess=female   name=Godfree                       \n",
      "correct=male     guess=female   name=Hymie                         \n",
      "correct=male     guess=female   name=Jean-Francois                 \n",
      "correct=male     guess=female   name=Jeffie                        \n",
      "correct=male     guess=female   name=Jerri                         \n",
      "correct=male     guess=female   name=Joshua                        \n",
      "correct=male     guess=female   name=Karsten                       \n",
      "correct=male     guess=female   name=Lanny                         \n",
      "correct=male     guess=female   name=Linoel                        \n",
      "correct=male     guess=female   name=Maddy                         \n",
      "correct=male     guess=female   name=Martyn                        \n",
      "correct=male     guess=female   name=Maury                         \n",
      "correct=male     guess=female   name=Meryl                         \n",
      "correct=male     guess=female   name=Mickie                        \n",
      "correct=male     guess=female   name=Mika                          \n",
      "correct=male     guess=female   name=Moishe                        \n",
      "correct=male     guess=female   name=Monte                         \n",
      "correct=male     guess=female   name=Mose                          \n",
      "correct=male     guess=female   name=Nathanial                     \n",
      "correct=male     guess=female   name=Nichole                       \n",
      "correct=male     guess=female   name=Nickey                        \n",
      "correct=male     guess=female   name=Ollie                         \n",
      "correct=male     guess=female   name=Partha                        \n",
      "correct=male     guess=female   name=Percy                         \n",
      "correct=male     guess=female   name=Rickie                        \n",
      "correct=male     guess=female   name=Ross                          \n",
      "correct=male     guess=female   name=Shorty                        \n",
      "correct=male     guess=female   name=Sinclare                      \n",
      "correct=male     guess=female   name=Tabbie                        \n",
      "correct=male     guess=female   name=Tait                          \n",
      "correct=male     guess=female   name=Taite                         \n",
      "correct=male     guess=female   name=Terence                       \n",
      "correct=male     guess=female   name=Tobie                         \n",
      "correct=male     guess=female   name=Tommie                        \n",
      "correct=male     guess=female   name=Tre                           \n",
      "correct=male     guess=female   name=Uri                           \n",
      "correct=male     guess=female   name=Vance                         \n",
      "correct=male     guess=female   name=Vergil                        \n",
      "correct=male     guess=female   name=Vinny                         \n",
      "correct=male     guess=female   name=Yehudi                        \n"
     ]
    }
   ],
   "source": [
    "errors = []\n",
    "for (name, tag) in validation:\n",
    "    guess = classifier.classify(gender_features(name))\n",
    "    if guess != tag:\n",
    "        errors.append( (tag, guess, name) )\n",
    "\n",
    "print \"Number of error cases: {} of {}.\\n\\nAnd they are:\".format(len(errors),len(validation))\n",
    "\n",
    "for (tag, guess, name) in sorted(errors):\n",
    "    print('correct={:<8} guess={:<8s} name={:<30}'.format(tag, guess, name))"
   ]
  },
  {
   "cell_type": "markdown",
   "metadata": {},
   "source": [
    "Since many names are of length 3 or 4, we do not want to move further to avoid the chance of overfitting. Let us apply this featureset to test data set."
   ]
  },
  {
   "cell_type": "code",
   "execution_count": 17,
   "metadata": {
    "collapsed": false
   },
   "outputs": [
    {
     "name": "stdout",
     "output_type": "stream",
     "text": [
      "0.81\n"
     ]
    }
   ],
   "source": [
    "test_set = [(gender_features(n), g) for (n,g) in test]\n",
    "\n",
    "print nltk.classify.accuracy(classifier, test_set)"
   ]
  },
  {
   "cell_type": "markdown",
   "metadata": {},
   "source": [
    "### Conclusion"
   ]
  },
  {
   "cell_type": "markdown",
   "metadata": {},
   "source": [
    "Based on the above results, it looks like using first 2 and last 2 letters produce the best result."
   ]
  }
 ],
 "metadata": {
  "kernelspec": {
   "display_name": "Python 2",
   "language": "python",
   "name": "python2"
  },
  "language_info": {
   "codemirror_mode": {
    "name": "ipython",
    "version": 2
   },
   "file_extension": ".py",
   "mimetype": "text/x-python",
   "name": "python",
   "nbconvert_exporter": "python",
   "pygments_lexer": "ipython2",
   "version": "2.7.10"
  }
 },
 "nbformat": 4,
 "nbformat_minor": 0
}
