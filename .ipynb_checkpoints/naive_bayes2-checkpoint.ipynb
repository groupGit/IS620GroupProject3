{
 "cells": [
  {
   "cell_type": "markdown",
   "metadata": {},
   "source": [
    "D Stern"
   ]
  },
  {
   "cell_type": "markdown",
   "metadata": {},
   "source": [
    "In this method, we attempt to apply by Naive Bayes again. Our process is to randomize the names list, split it into the test/training/validations sets and that to construct different classifiers, each with different combinations of features. The combination of first letter, last letter, first four letters, and last three letters yields about 80% on the test and validation sets."
   ]
  },
  {
   "cell_type": "code",
   "execution_count": 2,
   "metadata": {
    "collapsed": true
   },
   "outputs": [],
   "source": [
    "import nltk\n",
    "from nltk.corpus import names\n",
    "import random\n",
    "from __future__ import division"
   ]
  },
  {
   "cell_type": "code",
   "execution_count": 3,
   "metadata": {
    "collapsed": false
   },
   "outputs": [],
   "source": [
    "def gender_features(word):\n",
    "    return {'last_letter': word[-1]}"
   ]
  },
  {
   "cell_type": "code",
   "execution_count": 4,
   "metadata": {
    "collapsed": false
   },
   "outputs": [],
   "source": [
    "names = nltk.corpus.names\n",
    "maleNames = names.words('male.txt')\n",
    "femaleNames = names.words('female.txt')\n",
    "maleNames = [(each, 'male') for each in maleNames] # add labels\n",
    "femaleNames = [(each, 'female') for each in femaleNames]\n",
    "random.shuffle(maleNames) #lists are alphabetical, randomize before splitting\n",
    "random.shuffle(femaleNames)"
   ]
  },
  {
   "cell_type": "code",
   "execution_count": 5,
   "metadata": {
    "collapsed": false
   },
   "outputs": [
    {
     "data": {
      "text/plain": [
       "0.3704682779456193"
      ]
     },
     "execution_count": 5,
     "metadata": {},
     "output_type": "execute_result"
    }
   ],
   "source": [
    "len(maleNames)/(len(maleNames)+len(femaleNames)) # pct of male names"
   ]
  },
  {
   "cell_type": "code",
   "execution_count": 6,
   "metadata": {
    "collapsed": false
   },
   "outputs": [
    {
     "data": {
      "text/plain": [
       "185.20000000000002"
      ]
     },
     "execution_count": 6,
     "metadata": {},
     "output_type": "execute_result"
    }
   ],
   "source": [
    "0.3704*500 # number of male names to take for validation and test sets"
   ]
  },
  {
   "cell_type": "code",
   "execution_count": 7,
   "metadata": {
    "collapsed": false
   },
   "outputs": [
    {
     "data": {
      "text/plain": [
       "2572.0576"
      ]
     },
     "execution_count": 7,
     "metadata": {},
     "output_type": "execute_result"
    }
   ],
   "source": [
    "0.3704*6944 # number of male names to take for training set"
   ]
  },
  {
   "cell_type": "code",
   "execution_count": 8,
   "metadata": {
    "collapsed": false
   },
   "outputs": [
    {
     "data": {
      "text/plain": [
       "0.6295317220543807"
      ]
     },
     "execution_count": 8,
     "metadata": {},
     "output_type": "execute_result"
    }
   ],
   "source": [
    "len(femaleNames)/(len(maleNames)+len(femaleNames)) # pct of female names"
   ]
  },
  {
   "cell_type": "code",
   "execution_count": 9,
   "metadata": {
    "collapsed": false
   },
   "outputs": [
    {
     "data": {
      "text/plain": [
       "314.75"
      ]
     },
     "execution_count": 9,
     "metadata": {},
     "output_type": "execute_result"
    }
   ],
   "source": [
    "0.6295*500 # number of female names to take for validation and test sets"
   ]
  },
  {
   "cell_type": "code",
   "execution_count": 10,
   "metadata": {
    "collapsed": false
   },
   "outputs": [
    {
     "data": {
      "text/plain": [
       "4371.248"
      ]
     },
     "execution_count": 10,
     "metadata": {},
     "output_type": "execute_result"
    }
   ],
   "source": [
    "0.6295*6944 # number of female names to take for training set"
   ]
  },
  {
   "cell_type": "code",
   "execution_count": 11,
   "metadata": {
    "collapsed": false
   },
   "outputs": [],
   "source": [
    "training  = maleNames[0:2572] + femaleNames[0:4370]\n",
    "test = maleNames[2572:2757] + femaleNames[4370:4685]\n",
    "validation = maleNames[2757:2942] + femaleNames[4685:5000]"
   ]
  },
  {
   "cell_type": "code",
   "execution_count": 12,
   "metadata": {
    "collapsed": false
   },
   "outputs": [
    {
     "name": "stdout",
     "output_type": "stream",
     "text": [
      "0.772\n"
     ]
    }
   ],
   "source": [
    "from nltk.classify import apply_features\n",
    "training1 = apply_features(gender_features, training)\n",
    "test1 = apply_features(gender_features, test)\n",
    "classifier1 = nltk.NaiveBayesClassifier.train(training1)\n",
    "print(nltk.classify.accuracy(classifier1, test1))"
   ]
  },
  {
   "cell_type": "code",
   "execution_count": 13,
   "metadata": {
    "collapsed": false
   },
   "outputs": [
    {
     "name": "stdout",
     "output_type": "stream",
     "text": [
      "Most Informative Features\n",
      "             last_letter = u'a'           female : male   =     37.3 : 1.0\n",
      "             last_letter = u'k'             male : female =     29.3 : 1.0\n",
      "             last_letter = u'f'             male : female =     14.6 : 1.0\n",
      "             last_letter = u'v'             male : female =     10.5 : 1.0\n",
      "             last_letter = u'p'             male : female =     10.5 : 1.0\n",
      "             last_letter = u'd'             male : female =      9.7 : 1.0\n",
      "             last_letter = u'o'             male : female =      8.4 : 1.0\n",
      "             last_letter = u'm'             male : female =      8.1 : 1.0\n",
      "             last_letter = u'r'             male : female =      6.6 : 1.0\n",
      "             last_letter = u'z'             male : female =      6.4 : 1.0\n"
     ]
    }
   ],
   "source": [
    "classifier1.show_most_informative_features(10)"
   ]
  },
  {
   "cell_type": "markdown",
   "metadata": {},
   "source": [
    "For the second features definition, I messed around with combinations of just first and last letter. Although there is some variability on each run, I found that the last letter alone is more indicative than first letter alone. Just using the last letter is roughly the same as using both the first and the last letter."
   ]
  },
  {
   "cell_type": "code",
   "execution_count": 14,
   "metadata": {
    "collapsed": false
   },
   "outputs": [],
   "source": [
    "def gender_features2(name):\n",
    "    features = {}\n",
    "    features[\"first_letter\"] = name[0].lower()\n",
    "    features[\"last_letter\"] = name[-1].lower()\n",
    "    return features"
   ]
  },
  {
   "cell_type": "code",
   "execution_count": 15,
   "metadata": {
    "collapsed": false
   },
   "outputs": [
    {
     "name": "stdout",
     "output_type": "stream",
     "text": [
      "0.782\n"
     ]
    }
   ],
   "source": [
    "training2 = [(gender_features2(n), gender) for (n, gender) in training]\n",
    "test2 = [(gender_features2(n), gender) for (n, gender) in test]\n",
    "validation2 = [(gender_features2(n), gender) for (n, gender) in validation]\n",
    "classifier2 = nltk.NaiveBayesClassifier.train(training2)\n",
    "print(nltk.classify.accuracy(classifier2, test2))"
   ]
  },
  {
   "cell_type": "code",
   "execution_count": 16,
   "metadata": {
    "collapsed": false
   },
   "outputs": [],
   "source": [
    "def gender_features3(name):\n",
    "    features = {}\n",
    "    features[\"first_letter\"] = name[0].lower()\n",
    "    features[\"last_letter\"] = name[-1].lower()\n",
    "    features[\"first_4\"] = name[0:3]\n",
    "    features[\"last_3\"] = name[-3:-1]\n",
    "    return features"
   ]
  },
  {
   "cell_type": "code",
   "execution_count": 17,
   "metadata": {
    "collapsed": false
   },
   "outputs": [
    {
     "name": "stdout",
     "output_type": "stream",
     "text": [
      "0.782\n"
     ]
    }
   ],
   "source": [
    "training3 = [(gender_features3(n), gender) for (n, gender) in training]\n",
    "test3 = [(gender_features3(n), gender) for (n, gender) in test]\n",
    "validation3 = [(gender_features3(n), gender) for (n, gender) in validation]\n",
    "classifier3 = nltk.NaiveBayesClassifier.train(training3)\n",
    "print(nltk.classify.accuracy(classifier3, test2))"
   ]
  },
  {
   "cell_type": "code",
   "execution_count": 18,
   "metadata": {
    "collapsed": false
   },
   "outputs": [
    {
     "name": "stdout",
     "output_type": "stream",
     "text": [
      "0.828\n"
     ]
    }
   ],
   "source": [
    "print(nltk.classify.accuracy(classifier3, validation3))"
   ]
  }
 ],
 "metadata": {
  "kernelspec": {
   "display_name": "Python 2",
   "language": "python",
   "name": "python2"
  },
  "language_info": {
   "codemirror_mode": {
    "name": "ipython",
    "version": 2
   },
   "file_extension": ".py",
   "mimetype": "text/x-python",
   "name": "python",
   "nbconvert_exporter": "python",
   "pygments_lexer": "ipython2",
   "version": "2.7.10"
  }
 },
 "nbformat": 4,
 "nbformat_minor": 0
}
