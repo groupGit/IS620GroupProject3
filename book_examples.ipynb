{
 "cells": [
  {
   "cell_type": "markdown",
   "metadata": {},
   "source": [
    "### Overview of Names Corpus"
   ]
  },
  {
   "cell_type": "code",
   "execution_count": 1,
   "metadata": {
    "collapsed": true
   },
   "outputs": [],
   "source": [
    "import nltk\n",
    "from nltk.corpus import names"
   ]
  },
  {
   "cell_type": "code",
   "execution_count": 2,
   "metadata": {
    "collapsed": false
   },
   "outputs": [
    {
     "data": {
      "text/plain": [
       "['_LazyCorpusLoader__args',\n",
       " '_LazyCorpusLoader__kwargs',\n",
       " '_LazyCorpusLoader__name',\n",
       " '_LazyCorpusLoader__reader_cls',\n",
       " '__class__',\n",
       " '__delattr__',\n",
       " '__dict__',\n",
       " '__doc__',\n",
       " '__format__',\n",
       " '__getattribute__',\n",
       " '__hash__',\n",
       " '__init__',\n",
       " '__module__',\n",
       " '__name__',\n",
       " '__new__',\n",
       " '__reduce__',\n",
       " '__reduce_ex__',\n",
       " '__repr__',\n",
       " '__setattr__',\n",
       " '__sizeof__',\n",
       " '__str__',\n",
       " '__subclasshook__',\n",
       " '__unicode__',\n",
       " '__weakref__',\n",
       " '_get_root',\n",
       " 'abspath',\n",
       " 'abspaths',\n",
       " 'citation',\n",
       " 'encoding',\n",
       " 'ensure_loaded',\n",
       " 'fileids',\n",
       " 'license',\n",
       " 'open',\n",
       " 'raw',\n",
       " 'readme',\n",
       " 'root',\n",
       " 'unicode_repr',\n",
       " 'words']"
      ]
     },
     "execution_count": 2,
     "metadata": {},
     "output_type": "execute_result"
    }
   ],
   "source": [
    "dir(names)"
   ]
  },
  {
   "cell_type": "markdown",
   "metadata": {},
   "source": [
    "**Looks like all the names are stored in words()**"
   ]
  },
  {
   "cell_type": "code",
   "execution_count": 3,
   "metadata": {
    "collapsed": false
   },
   "outputs": [
    {
     "data": {
      "text/plain": [
       "[u'Abagael',\n",
       " u'Abagail',\n",
       " u'Abbe',\n",
       " u'Abbey',\n",
       " u'Abbi',\n",
       " u'Abbie',\n",
       " u'Abby',\n",
       " u'Abigael',\n",
       " u'Abigail',\n",
       " u'Abigale',\n",
       " u'Abra',\n",
       " u'Acacia',\n",
       " u'Ada',\n",
       " u'Adah',\n",
       " u'Adaline',\n",
       " u'Adara',\n",
       " u'Addie',\n",
       " u'Addis',\n",
       " u'Adel',\n",
       " u'Adela']"
      ]
     },
     "execution_count": 3,
     "metadata": {},
     "output_type": "execute_result"
    }
   ],
   "source": [
    "names.words()[:20]"
   ]
  },
  {
   "cell_type": "code",
   "execution_count": 4,
   "metadata": {
    "collapsed": false
   },
   "outputs": [
    {
     "data": {
      "text/plain": [
       "7944"
      ]
     },
     "execution_count": 4,
     "metadata": {},
     "output_type": "execute_result"
    }
   ],
   "source": [
    "len(names.words())"
   ]
  },
  {
   "cell_type": "markdown",
   "metadata": {},
   "source": [
    "**Also has individual files for male and female**"
   ]
  },
  {
   "cell_type": "code",
   "execution_count": 5,
   "metadata": {
    "collapsed": false
   },
   "outputs": [
    {
     "data": {
      "text/plain": [
       "[u'female.txt', u'male.txt']"
      ]
     },
     "execution_count": 5,
     "metadata": {},
     "output_type": "execute_result"
    }
   ],
   "source": [
    "names.fileids()"
   ]
  },
  {
   "cell_type": "code",
   "execution_count": 6,
   "metadata": {
    "collapsed": false
   },
   "outputs": [
    {
     "name": "stdout",
     "output_type": "stream",
     "text": [
      "(2943, 5001)\n"
     ]
    }
   ],
   "source": [
    "male = names.words('male.txt')\n",
    "female = names.words('female.txt')\n",
    "print(len(male), len(female))"
   ]
  },
  {
   "cell_type": "markdown",
   "metadata": {},
   "source": [
    "**Make labeled set**"
   ]
  },
  {
   "cell_type": "code",
   "execution_count": 7,
   "metadata": {
    "collapsed": false
   },
   "outputs": [
    {
     "data": {
      "text/plain": [
       "[(u'Aamir', 'male'),\n",
       " (u'Aaron', 'male'),\n",
       " (u'Abbey', 'male'),\n",
       " (u'Abbie', 'male'),\n",
       " (u'Abbot', 'male'),\n",
       " (u'Abbott', 'male'),\n",
       " (u'Abby', 'male'),\n",
       " (u'Abdel', 'male'),\n",
       " (u'Abdul', 'male'),\n",
       " (u'Abdulkarim', 'male')]"
      ]
     },
     "execution_count": 7,
     "metadata": {},
     "output_type": "execute_result"
    }
   ],
   "source": [
    "labeled_names = ([(name, 'male') for name in male] + [(name, 'female') for name in female])\n",
    "labeled_names[:10]"
   ]
  },
  {
   "cell_type": "markdown",
   "metadata": {},
   "source": [
    "### Examples from NLTK Ch. 6\n",
    "*Just to better understand the example classifier(s) we are to improve on*"
   ]
  },
  {
   "cell_type": "markdown",
   "metadata": {},
   "source": [
    "**Classify gender based on last letter of name**"
   ]
  },
  {
   "cell_type": "code",
   "execution_count": 8,
   "metadata": {
    "collapsed": false
   },
   "outputs": [
    {
     "data": {
      "text/plain": [
       "{'last_letter': 'k'}"
      ]
     },
     "execution_count": 8,
     "metadata": {},
     "output_type": "execute_result"
    }
   ],
   "source": [
    "def gender_features(word):\n",
    "    return {'last_letter': word[-1]}\n",
    "gender_features('Shrek')"
   ]
  },
  {
   "cell_type": "markdown",
   "metadata": {},
   "source": [
    "**Divide into training and test sets**"
   ]
  },
  {
   "cell_type": "code",
   "execution_count": 9,
   "metadata": {
    "collapsed": false
   },
   "outputs": [
    {
     "name": "stdout",
     "output_type": "stream",
     "text": [
      "[({'last_letter': u'n'}, 'male'), ({'last_letter': u'e'}, 'female'), ({'last_letter': u'o'}, 'male'), ({'last_letter': u'a'}, 'female'), ({'last_letter': u'd'}, 'male')]\n",
      "<type 'list'>\n"
     ]
    }
   ],
   "source": [
    "import random\n",
    "random.shuffle(labeled_names)\n",
    "featuresets = [(gender_features(n), gender) for (n, gender) in labeled_names]\n",
    "train_set, test_set = featuresets[500:], featuresets[:500]\n",
    "print(train_set[:5])\n",
    "print(type(train_set))"
   ]
  },
  {
   "cell_type": "code",
   "execution_count": 10,
   "metadata": {
    "collapsed": false
   },
   "outputs": [
    {
     "name": "stdout",
     "output_type": "stream",
     "text": [
      "[({'last_letter': u'n'}, 'male'), ({'last_letter': u'e'}, 'female'), ...]\n",
      "<class 'nltk.util.LazyMap'>\n"
     ]
    }
   ],
   "source": [
    "# Better way to store list data using NLTK\n",
    "from nltk.classify import apply_features\n",
    "train_set = apply_features(gender_features, labeled_names[500:])\n",
    "test_set = apply_features(gender_features, labeled_names[:500])\n",
    "print(train_set[:5])\n",
    "print(type(train_set))"
   ]
  },
  {
   "cell_type": "markdown",
   "metadata": {},
   "source": [
    "**Naive Bayes Classifier**"
   ]
  },
  {
   "cell_type": "code",
   "execution_count": 11,
   "metadata": {
    "collapsed": false
   },
   "outputs": [
    {
     "name": "stdout",
     "output_type": "stream",
     "text": [
      "male\n",
      "female\n"
     ]
    }
   ],
   "source": [
    "classifier = nltk.NaiveBayesClassifier.train(train_set)\n",
    "print(classifier.classify(gender_features('Neo')))\n",
    "print(classifier.classify(gender_features('Trinity')))"
   ]
  },
  {
   "cell_type": "code",
   "execution_count": 12,
   "metadata": {
    "collapsed": false
   },
   "outputs": [
    {
     "name": "stdout",
     "output_type": "stream",
     "text": [
      "0.722\n"
     ]
    }
   ],
   "source": [
    "print(nltk.classify.accuracy(classifier, test_set))"
   ]
  },
  {
   "cell_type": "code",
   "execution_count": 13,
   "metadata": {
    "collapsed": false
   },
   "outputs": [
    {
     "name": "stdout",
     "output_type": "stream",
     "text": [
      "Most Informative Features\n",
      "             last_letter = u'a'           female : male   =     34.6 : 1.0\n",
      "             last_letter = u'k'             male : female =     31.0 : 1.0\n",
      "             last_letter = u'f'             male : female =     16.5 : 1.0\n",
      "             last_letter = u'p'             male : female =     12.5 : 1.0\n",
      "             last_letter = u'v'             male : female =     11.1 : 1.0\n"
     ]
    }
   ],
   "source": [
    "classifier.show_most_informative_features(5)"
   ]
  },
  {
   "cell_type": "markdown",
   "metadata": {},
   "source": [
    "**Feature Extraction example**"
   ]
  },
  {
   "cell_type": "code",
   "execution_count": 14,
   "metadata": {
    "collapsed": true
   },
   "outputs": [],
   "source": [
    "# Laundry list of all features\n",
    "def gender_features2(name):\n",
    "    features = {}\n",
    "    features[\"first_letter\"] = name[0].lower()\n",
    "    features[\"last_letter\"] = name[-1].lower()\n",
    "    for letter in 'abcdefghijklmnopqrstuvwxyz':\n",
    "        features[\"count({})\".format(letter)] = name.lower().count(letter)\n",
    "        features[\"has({})\".format(letter)] = (letter in name.lower())\n",
    "    return features"
   ]
  },
  {
   "cell_type": "code",
   "execution_count": 15,
   "metadata": {
    "collapsed": false
   },
   "outputs": [
    {
     "data": {
      "text/plain": [
       "{'count(a)': 0,\n",
       " 'count(b)': 0,\n",
       " 'count(c)': 0,\n",
       " 'count(d)': 0,\n",
       " 'count(e)': 0,\n",
       " 'count(f)': 0,\n",
       " 'count(g)': 0,\n",
       " 'count(h)': 1,\n",
       " 'count(i)': 0,\n",
       " 'count(j)': 1,\n",
       " 'count(k)': 0,\n",
       " 'count(l)': 0,\n",
       " 'count(m)': 0,\n",
       " 'count(n)': 1,\n",
       " 'count(o)': 1,\n",
       " 'count(p)': 0,\n",
       " 'count(q)': 0,\n",
       " 'count(r)': 0,\n",
       " 'count(s)': 0,\n",
       " 'count(t)': 0,\n",
       " 'count(u)': 0,\n",
       " 'count(v)': 0,\n",
       " 'count(w)': 0,\n",
       " 'count(x)': 0,\n",
       " 'count(y)': 0,\n",
       " 'count(z)': 0,\n",
       " 'first_letter': 'j',\n",
       " 'has(a)': False,\n",
       " 'has(b)': False,\n",
       " 'has(c)': False,\n",
       " 'has(d)': False,\n",
       " 'has(e)': False,\n",
       " 'has(f)': False,\n",
       " 'has(g)': False,\n",
       " 'has(h)': True,\n",
       " 'has(i)': False,\n",
       " 'has(j)': True,\n",
       " 'has(k)': False,\n",
       " 'has(l)': False,\n",
       " 'has(m)': False,\n",
       " 'has(n)': True,\n",
       " 'has(o)': True,\n",
       " 'has(p)': False,\n",
       " 'has(q)': False,\n",
       " 'has(r)': False,\n",
       " 'has(s)': False,\n",
       " 'has(t)': False,\n",
       " 'has(u)': False,\n",
       " 'has(v)': False,\n",
       " 'has(w)': False,\n",
       " 'has(x)': False,\n",
       " 'has(y)': False,\n",
       " 'has(z)': False,\n",
       " 'last_letter': 'n'}"
      ]
     },
     "execution_count": 15,
     "metadata": {},
     "output_type": "execute_result"
    }
   ],
   "source": [
    "gender_features2('John') "
   ]
  },
  {
   "cell_type": "code",
   "execution_count": 16,
   "metadata": {
    "collapsed": false
   },
   "outputs": [
    {
     "name": "stdout",
     "output_type": "stream",
     "text": [
      "0.75\n"
     ]
    }
   ],
   "source": [
    "featuresets = [(gender_features2(n), gender) for (n, gender) in labeled_names]\n",
    "train_set, test_set = featuresets[500:], featuresets[:500]\n",
    "classifier = nltk.NaiveBayesClassifier.train(train_set)\n",
    "print(nltk.classify.accuracy(classifier, test_set))"
   ]
  },
  {
   "cell_type": "markdown",
   "metadata": {},
   "source": [
    "**Divide corpus into training, test, and dev-test sets**"
   ]
  },
  {
   "cell_type": "code",
   "execution_count": 17,
   "metadata": {
    "collapsed": true
   },
   "outputs": [],
   "source": [
    "train_names = labeled_names[1500:]\n",
    "devtest_names = labeled_names[500:1500]\n",
    "test_names = labeled_names[:500]"
   ]
  },
  {
   "cell_type": "code",
   "execution_count": 18,
   "metadata": {
    "collapsed": false
   },
   "outputs": [
    {
     "name": "stdout",
     "output_type": "stream",
     "text": [
      "0.78\n"
     ]
    }
   ],
   "source": [
    "train_set = [(gender_features(n), gender) for (n, gender) in train_names]\n",
    "devtest_set = [(gender_features(n), gender) for (n, gender) in devtest_names]\n",
    "test_set = [(gender_features(n), gender) for (n, gender) in test_names]\n",
    "classifier = nltk.NaiveBayesClassifier.train(train_set)\n",
    "print(nltk.classify.accuracy(classifier, devtest_set))"
   ]
  },
  {
   "cell_type": "markdown",
   "metadata": {},
   "source": [
    "**Error Analysis**"
   ]
  },
  {
   "cell_type": "code",
   "execution_count": 19,
   "metadata": {
    "collapsed": false
   },
   "outputs": [],
   "source": [
    "errors = []\n",
    "for (name, tag) in devtest_names:\n",
    "    guess = classifier.classify(gender_features(name))\n",
    "    if guess != tag:\n",
    "        errors.append( (tag, guess, name) )"
   ]
  },
  {
   "cell_type": "code",
   "execution_count": 20,
   "metadata": {
    "collapsed": false
   },
   "outputs": [
    {
     "name": "stdout",
     "output_type": "stream",
     "text": [
      "correct=female   guess=male     name=Abigael                       \n",
      "correct=female   guess=male     name=Addis                         \n",
      "correct=female   guess=male     name=Alleen                        \n",
      "correct=female   guess=male     name=Alys                          \n",
      "correct=female   guess=male     name=Alyss                         \n",
      "correct=female   guess=male     name=Amabel                        \n",
      "correct=female   guess=male     name=Angel                         \n",
      "correct=female   guess=male     name=Annabel                       \n",
      "correct=female   guess=male     name=Arabel                        \n",
      "correct=female   guess=male     name=Ayn                           \n",
      "correct=female   guess=male     name=Bab                           \n",
      "correct=female   guess=male     name=Bidget                        \n",
      "correct=female   guess=male     name=Brett                         \n",
      "correct=female   guess=male     name=Caitrin                       \n",
      "correct=female   guess=male     name=Caro                          \n",
      "correct=female   guess=male     name=Carol                         \n",
      "correct=female   guess=male     name=Carolyn                       \n",
      "correct=female   guess=male     name=Carroll                       \n",
      "correct=female   guess=male     name=Cass                          \n",
      "correct=female   guess=male     name=Catherin                      \n",
      "correct=female   guess=male     name=Celestyn                      \n",
      "correct=female   guess=male     name=Christan                      \n",
      "correct=female   guess=male     name=Christian                     \n",
      "correct=female   guess=male     name=Consuelo                      \n",
      "correct=female   guess=male     name=Dagmar                        \n",
      "correct=female   guess=male     name=Darell                        \n",
      "correct=female   guess=male     name=Daryn                         \n",
      "correct=female   guess=male     name=Del                           \n",
      "correct=female   guess=male     name=Delores                       \n",
      "correct=female   guess=male     name=Devon                         \n",
      "correct=female   guess=male     name=Dian                          \n",
      "correct=female   guess=male     name=Dido                          \n",
      "correct=female   guess=male     name=Dorian                        \n",
      "correct=female   guess=male     name=Doro                          \n",
      "correct=female   guess=male     name=Dorris                        \n",
      "correct=female   guess=male     name=Dyan                          \n",
      "correct=female   guess=male     name=Easter                        \n",
      "correct=female   guess=male     name=Eden                          \n",
      "correct=female   guess=male     name=Ellyn                         \n",
      "correct=female   guess=male     name=Ethel                         \n",
      "correct=female   guess=male     name=Ethelin                       \n",
      "correct=female   guess=male     name=Farand                        \n",
      "correct=female   guess=male     name=Faun                          \n",
      "correct=female   guess=male     name=Germain                       \n",
      "correct=female   guess=male     name=Gertrud                       \n",
      "correct=female   guess=male     name=Gillian                       \n",
      "correct=female   guess=male     name=Glyn                          \n",
      "correct=female   guess=male     name=Greer                         \n",
      "correct=female   guess=male     name=Helyn                         \n",
      "correct=female   guess=male     name=Ingeberg                      \n",
      "correct=female   guess=male     name=Inger                         \n",
      "correct=female   guess=male     name=Jacklin                       \n",
      "correct=female   guess=male     name=Janet                         \n",
      "correct=female   guess=male     name=Jenn                          \n",
      "correct=female   guess=male     name=Jilleen                       \n",
      "correct=female   guess=male     name=Jourdan                       \n",
      "correct=female   guess=male     name=Joyan                         \n",
      "correct=female   guess=male     name=Joyann                        \n",
      "correct=female   guess=male     name=Karin                         \n",
      "correct=female   guess=male     name=Karlen                        \n",
      "correct=female   guess=male     name=Karmen                        \n",
      "correct=female   guess=male     name=Kat                           \n",
      "correct=female   guess=male     name=Katlin                        \n",
      "correct=female   guess=male     name=Kerstin                       \n",
      "correct=female   guess=male     name=Kristen                       \n",
      "correct=female   guess=male     name=Laural                        \n",
      "correct=female   guess=male     name=Leland                        \n",
      "correct=female   guess=male     name=Liz                           \n",
      "correct=female   guess=male     name=Lurleen                       \n",
      "correct=female   guess=male     name=Lynett                        \n",
      "correct=female   guess=male     name=Lynnett                       \n",
      "correct=female   guess=male     name=Marillin                      \n",
      "correct=female   guess=male     name=Marion                        \n",
      "correct=female   guess=male     name=Maryellen                     \n",
      "correct=female   guess=male     name=Maryjo                        \n",
      "correct=female   guess=male     name=Marys                         \n",
      "correct=female   guess=male     name=Mavis                         \n",
      "correct=female   guess=male     name=Meagan                        \n",
      "correct=female   guess=male     name=Melicent                      \n",
      "correct=female   guess=male     name=Mellicent                     \n",
      "correct=female   guess=male     name=Michell                       \n",
      "correct=female   guess=male     name=Morgan                        \n",
      "correct=female   guess=male     name=Mureil                        \n",
      "correct=female   guess=male     name=Ninon                         \n",
      "correct=female   guess=male     name=Persis                        \n",
      "correct=female   guess=male     name=Raf                           \n",
      "correct=female   guess=male     name=Ragnhild                      \n",
      "correct=female   guess=male     name=Rayshell                      \n",
      "correct=female   guess=male     name=Rianon                        \n",
      "correct=female   guess=male     name=Robinett                      \n",
      "correct=female   guess=male     name=Roselyn                       \n",
      "correct=female   guess=male     name=Rozalin                       \n",
      "correct=female   guess=male     name=Shanon                        \n",
      "correct=female   guess=male     name=Shaun                         \n",
      "correct=female   guess=male     name=Sheril                        \n",
      "correct=female   guess=male     name=Sinead                        \n",
      "correct=female   guess=male     name=Tatum                         \n",
      "correct=female   guess=male     name=Tiff                          \n",
      "correct=female   guess=male     name=Viv                           \n",
      "correct=female   guess=male     name=Winnifred                     \n",
      "correct=female   guess=male     name=Yehudit                       \n",
      "correct=female   guess=male     name=Yoko                          \n",
      "correct=female   guess=male     name=Yoshiko                       \n",
      "correct=male     guess=female   name=Abby                          \n",
      "correct=male     guess=female   name=Adolphe                       \n",
      "correct=male     guess=female   name=Andre                         \n",
      "correct=male     guess=female   name=Andy                          \n",
      "correct=male     guess=female   name=Anthony                       \n",
      "correct=male     guess=female   name=Archy                         \n",
      "correct=male     guess=female   name=Ari                           \n",
      "correct=male     guess=female   name=Arnie                         \n",
      "correct=male     guess=female   name=Artie                         \n",
      "correct=male     guess=female   name=Augustine                     \n",
      "correct=male     guess=female   name=Bailey                        \n",
      "correct=male     guess=female   name=Berke                         \n",
      "correct=male     guess=female   name=Bernie                        \n",
      "correct=male     guess=female   name=Bjorne                        \n",
      "correct=male     guess=female   name=Bradley                       \n",
      "correct=male     guess=female   name=Brooke                        \n",
      "correct=male     guess=female   name=Carlyle                       \n",
      "correct=male     guess=female   name=Chaddie                       \n",
      "correct=male     guess=female   name=Chase                         \n",
      "correct=male     guess=female   name=Chevy                         \n",
      "correct=male     guess=female   name=Claire                        \n",
      "correct=male     guess=female   name=Claybourne                    \n",
      "correct=male     guess=female   name=Clemmie                       \n",
      "correct=male     guess=female   name=Cobby                         \n",
      "correct=male     guess=female   name=Constantine                   \n",
      "correct=male     guess=female   name=Corby                         \n",
      "correct=male     guess=female   name=Courtney                      \n",
      "correct=male     guess=female   name=Dana                          \n",
      "correct=male     guess=female   name=Darcy                         \n",
      "correct=male     guess=female   name=Davey                         \n",
      "correct=male     guess=female   name=Denny                         \n",
      "correct=male     guess=female   name=Douggie                       \n",
      "correct=male     guess=female   name=Duffie                        \n",
      "correct=male     guess=female   name=Duffy                         \n",
      "correct=male     guess=female   name=Duke                          \n",
      "correct=male     guess=female   name=Dwayne                        \n",
      "correct=male     guess=female   name=Emery                         \n",
      "correct=male     guess=female   name=Eugene                        \n",
      "correct=male     guess=female   name=Farley                        \n",
      "correct=male     guess=female   name=Fletch                        \n",
      "correct=male     guess=female   name=Freddie                       \n",
      "correct=male     guess=female   name=Gary                          \n",
      "correct=male     guess=female   name=Geri                          \n",
      "correct=male     guess=female   name=Gerry                         \n",
      "correct=male     guess=female   name=Giffy                         \n",
      "correct=male     guess=female   name=Graeme                        \n",
      "correct=male     guess=female   name=Hadleigh                      \n",
      "correct=male     guess=female   name=Hamish                        \n",
      "correct=male     guess=female   name=Hartley                       \n",
      "correct=male     guess=female   name=Harvie                        \n",
      "correct=male     guess=female   name=Heath                         \n",
      "correct=male     guess=female   name=Hermy                         \n",
      "correct=male     guess=female   name=Horace                        \n",
      "correct=male     guess=female   name=Hugh                          \n",
      "correct=male     guess=female   name=Huntley                       \n",
      "correct=male     guess=female   name=Hy                            \n",
      "correct=male     guess=female   name=Hymie                         \n",
      "correct=male     guess=female   name=Ira                           \n",
      "correct=male     guess=female   name=Jake                          \n",
      "correct=male     guess=female   name=Jeffrey                       \n",
      "correct=male     guess=female   name=Jeth                          \n",
      "correct=male     guess=female   name=Johny                         \n",
      "correct=male     guess=female   name=Jordy                         \n",
      "correct=male     guess=female   name=Josiah                        \n",
      "correct=male     guess=female   name=Judah                         \n",
      "correct=male     guess=female   name=Keefe                         \n",
      "correct=male     guess=female   name=Kelley                        \n",
      "correct=male     guess=female   name=Kermie                        \n",
      "correct=male     guess=female   name=Larry                         \n",
      "correct=male     guess=female   name=Laurance                      \n",
      "correct=male     guess=female   name=Leroy                         \n",
      "correct=male     guess=female   name=Lex                           \n",
      "correct=male     guess=female   name=Lindy                         \n",
      "correct=male     guess=female   name=Marsh                         \n",
      "correct=male     guess=female   name=Max                           \n",
      "correct=male     guess=female   name=Mendie                        \n",
      "correct=male     guess=female   name=Meredeth                      \n",
      "correct=male     guess=female   name=Meredith                      \n",
      "correct=male     guess=female   name=Moore                         \n",
      "correct=male     guess=female   name=Murray                        \n",
      "correct=male     guess=female   name=Mustafa                       \n",
      "correct=male     guess=female   name=Nickey                        \n",
      "correct=male     guess=female   name=Noach                         \n",
      "correct=male     guess=female   name=Orville                       \n",
      "correct=male     guess=female   name=Paddy                         \n",
      "correct=male     guess=female   name=Pascale                       \n",
      "correct=male     guess=female   name=Pooh                          \n",
      "correct=male     guess=female   name=Pryce                         \n",
      "correct=male     guess=female   name=Raleigh                       \n",
      "correct=male     guess=female   name=Ramesh                        \n",
      "correct=male     guess=female   name=Ramsay                        \n",
      "correct=male     guess=female   name=Randolph                      \n",
      "correct=male     guess=female   name=Rex                           \n",
      "correct=male     guess=female   name=Rice                          \n",
      "correct=male     guess=female   name=Richy                         \n",
      "correct=male     guess=female   name=Rodolphe                      \n",
      "correct=male     guess=female   name=Roni                          \n",
      "correct=male     guess=female   name=Rudie                         \n",
      "correct=male     guess=female   name=Sascha                        \n",
      "correct=male     guess=female   name=Shaine                        \n",
      "correct=male     guess=female   name=Shayne                        \n",
      "correct=male     guess=female   name=Tabbie                        \n",
      "correct=male     guess=female   name=Tannie                        \n",
      "correct=male     guess=female   name=Thaine                        \n",
      "correct=male     guess=female   name=Toby                          \n",
      "correct=male     guess=female   name=Toddy                         \n",
      "correct=male     guess=female   name=Tommy                         \n",
      "correct=male     guess=female   name=Torey                         \n",
      "correct=male     guess=female   name=Torre                         \n",
      "correct=male     guess=female   name=Torrey                        \n",
      "correct=male     guess=female   name=Tracy                         \n",
      "correct=male     guess=female   name=Trey                          \n",
      "correct=male     guess=female   name=Verney                        \n",
      "correct=male     guess=female   name=Virgie                        \n",
      "correct=male     guess=female   name=Westley                       \n",
      "correct=male     guess=female   name=Wolfy                         \n",
      "correct=male     guess=female   name=Wye                           \n"
     ]
    }
   ],
   "source": [
    "for (tag, guess, name) in sorted(errors):\n",
    "    print('correct={:<8} guess={:<8s} name={:<30}'.format(tag, guess, name))"
   ]
  },
  {
   "cell_type": "markdown",
   "metadata": {},
   "source": [
    "*Looking through this list of errors makes it clear that some suffixes that are more than one letter can be indicative of name genders. For example, names ending in yn appear to be predominantly female, despite the fact that names ending in n tend to be male; and names ending in ch are usually male, even though names that end in h tend to be female. We therefore adjust our feature extractor to include features for two-letter suffixes:*"
   ]
  },
  {
   "cell_type": "code",
   "execution_count": 21,
   "metadata": {
    "collapsed": true
   },
   "outputs": [],
   "source": [
    "def gender_features(word):\n",
    "    return {'suffix1': word[-1:], 'suffix2': word[-2:]}"
   ]
  },
  {
   "cell_type": "code",
   "execution_count": 22,
   "metadata": {
    "collapsed": false
   },
   "outputs": [
    {
     "name": "stdout",
     "output_type": "stream",
     "text": [
      "0.794\n"
     ]
    }
   ],
   "source": [
    "train_set = [(gender_features(n), gender) for (n, gender) in train_names]\n",
    "devtest_set = [(gender_features(n), gender) for (n, gender) in devtest_names]\n",
    "classifier = nltk.NaiveBayesClassifier.train(train_set)\n",
    "print(nltk.classify.accuracy(classifier, devtest_set))"
   ]
  }
 ],
 "metadata": {
  "kernelspec": {
   "display_name": "Python 2",
   "language": "python",
   "name": "python2"
  },
  "language_info": {
   "codemirror_mode": {
    "name": "ipython",
    "version": 2
   },
   "file_extension": ".py",
   "mimetype": "text/x-python",
   "name": "python",
   "nbconvert_exporter": "python",
   "pygments_lexer": "ipython2",
   "version": "2.7.9"
  }
 },
 "nbformat": 4,
 "nbformat_minor": 0
}
